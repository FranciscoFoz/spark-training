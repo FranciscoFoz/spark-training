{
 "cells": [
  {
   "attachments": {},
   "cell_type": "markdown",
   "metadata": {},
   "source": [
    "# Library Checkouts - ETL Spark\n"
   ]
  },
  {
   "attachments": {},
   "cell_type": "markdown",
   "metadata": {},
   "source": [
    "https://spark.apache.org/docs/latest/api/python/user_guide/index.html"
   ]
  },
  {
   "cell_type": "code",
   "execution_count": 1,
   "metadata": {},
   "outputs": [],
   "source": [
    "import os\n",
    "\n",
    "os.environ['SPARK_HOME'] = 'C:\\spark\\spark-3.1.2-bin-hadoop2.7'\n",
    "os.environ['JAVA_HOME'] = 'C:\\Program Files\\Java\\jre1.8.0_361'\n",
    "os.environ['HADOOP_HOME'] = 'C:\\spark\\spark-3.2.1-bin-hadoop2.7\\hadoop'\n",
    "\n",
    "import findspark\n",
    "findspark.init()\n",
    "\n",
    "from pyspark.sql import SparkSession\n",
    "from pyspark.sql.types import DoubleType, StringType\n",
    "from pyspark.sql.functions import *\n",
    "\n"
   ]
  },
  {
   "cell_type": "code",
   "execution_count": 2,
   "metadata": {},
   "outputs": [
    {
     "data": {
      "text/html": [
       "\n",
       "            <div>\n",
       "                <p><b>SparkSession - in-memory</b></p>\n",
       "                \n",
       "        <div>\n",
       "            <p><b>SparkContext</b></p>\n",
       "\n",
       "            <p><a href=\"http://192.168.0.14:4050\">Spark UI</a></p>\n",
       "\n",
       "            <dl>\n",
       "              <dt>Version</dt>\n",
       "                <dd><code>v3.1.2</code></dd>\n",
       "              <dt>Master</dt>\n",
       "                <dd><code>local[*]</code></dd>\n",
       "              <dt>AppName</dt>\n",
       "                <dd><code>Iniciando com Spark</code></dd>\n",
       "            </dl>\n",
       "        </div>\n",
       "        \n",
       "            </div>\n",
       "        "
      ],
      "text/plain": [
       "<pyspark.sql.session.SparkSession at 0x22a2fc02250>"
      ]
     },
     "execution_count": 2,
     "metadata": {},
     "output_type": "execute_result"
    }
   ],
   "source": [
    "spark = SparkSession.builder\\\n",
    "    .master('local[*]')\\\n",
    "    .appName(\"Iniciando com Spark\")\\\n",
    "    .config('spark.ui.port', '4050')\\\n",
    "    .getOrCreate()\n",
    "\n",
    "spark"
   ]
  },
  {
   "attachments": {},
   "cell_type": "markdown",
   "metadata": {},
   "source": [
    "# Importando dados"
   ]
  },
  {
   "cell_type": "code",
   "execution_count": 3,
   "metadata": {},
   "outputs": [
    {
     "name": "stdout",
     "output_type": "stream",
     "text": [
      "+----------+------------+------------+------------+-------------+---------+--------------------+----+--------------------+--------------------+--------------------+---------------+\n",
      "|UsageClass|CheckoutType|MaterialType|CheckoutYear|CheckoutMonth|Checkouts|               Title|ISBN|             Creator|            Subjects|           Publisher|PublicationYear|\n",
      "+----------+------------+------------+------------+-------------+---------+--------------------+----+--------------------+--------------------+--------------------+---------------+\n",
      "|  Physical|     Horizon|        BOOK|        2007|           12|        1|Opposite the Cros...|null|       Haymon, S. T.|Haymon S T Childh...| St. Martin's Press,|         c1988.|\n",
      "|  Physical|     Horizon|        BOOK|        2007|           12|        1| Power of persuasion|null|                null|Love stories, Pol...|                null|           null|\n",
      "|  Physical|     Horizon|        BOOK|        2007|           12|        1|Cinema nirvana en...|null|                null|Motion pictures M...|                null|           null|\n",
      "|  Physical|     Horizon|        BOOK|        2007|           12|        2| Nepodvedennye itogi|null|                null|Riazanov Eldar, M...|                null|           null|\n",
      "|  Physical|     Horizon|   VIDEODISC|        2007|           12|        4|Xu Zhian He Yunsh...|null|                null|Popular music Chi...|                null|           null|\n",
      "|  Physical|     Horizon|        BOOK|        2007|           12|        8|Adverbs / Daniel ...|null|     Handler, Daniel|        Love stories|               Ecco,|         c2006.|\n",
      "|  Physical|     Horizon|   SOUNDDISC|        2007|           12|        4|      Empress Orchid|null|                null|Historical fictio...|                null|           null|\n",
      "|  Physical|     Horizon|        BOOK|        2007|           12|        3|Back to school wi...|null|Haywood, Carolyn,...|                null|     Harcourt, Brace|         [1943]|\n",
      "|  Physical|     Horizon|        BOOK|        2007|           12|        3|Hidden Oregon the...|null|                null|Oregon Guidebooks...|                null|           null|\n",
      "|  Physical|     Horizon|   VIDEODISC|        2007|           12|        9|Ballykissangel. S...|null|                null|Ireland Drama, Ca...|BBC Video : Distr...|         c2003.|\n",
      "|  Physical|     Horizon|        BOOK|        2007|           12|        1|Kremlin gold : 1,...|null|                null|Gosudarstvennaia ...|Distributed by H....|         c2000.|\n",
      "|  Physical|     Horizon|        BOOK|        2007|           12|        2|       Final verdict|null|                null|Mystery fiction, ...|                null|           null|\n",
      "|  Physical|     Horizon|   VIDEOCASS|        2007|           12|        1|        Undercurrent|null|                null|       Feature films|                null|           null|\n",
      "|  Physical|     Horizon|        BOOK|        2007|           12|        1|          Summertime|null|                null|Suspense fiction,...|                null|           null|\n",
      "|  Physical|     Horizon|        BOOK|        2007|           12|        4|    Unshapely things|null|                null|     Fantasy fiction|                null|           null|\n",
      "|  Physical|     Horizon|        BOOK|        2007|           12|        1|      psoriasis cure|null|                null|Psoriasis Treatme...|                null|           null|\n",
      "|  Physical|     Horizon|        BOOK|        2007|           12|        7|The story of arch...|null|   Glancey, Jonathan|Architecture History| Dorling Kindersley,|          2000.|\n",
      "|  Physical|     Horizon|        BOOK|        2007|           12|        4|courage to teach ...|null|                null|Teaching, Teacher...|                null|           null|\n",
      "|  Physical|     Horizon|   VIDEODISC|        2007|           12|       17|Mrs. Miniver [vid...|null|                null|Middle class fami...|  Warner Home Video,| [2004], c1942.|\n",
      "|  Physical|     Horizon|        BOOK|        2007|           12|        2|The remembering s...|null| Russell, Barbara T.|Costa Rican Ameri...|Farrar Straus Gir...|          2004.|\n",
      "+----------+------------+------------+------------+-------------+---------+--------------------+----+--------------------+--------------------+--------------------+---------------+\n",
      "only showing top 20 rows\n",
      "\n"
     ]
    }
   ],
   "source": [
    "seattle_library = spark.read.option(\"header\",\"true\").csv('Datasets\\Checkouts_by_Title.csv')\n",
    "seattle_library.show()"
   ]
  },
  {
   "attachments": {},
   "cell_type": "markdown",
   "metadata": {},
   "source": [
    "### Adicionando ID_Material"
   ]
  },
  {
   "cell_type": "code",
   "execution_count": 4,
   "metadata": {},
   "outputs": [
    {
     "name": "stdout",
     "output_type": "stream",
     "text": [
      "+----------+------------+------------+------------+-------------+---------+----------------------------------------------------------------------------------------------------------------------------------------------------------------------------------------------------------------------------------------------------------------+----+---------------------------+---------------------------------------------------------------------------------------------------------------------------------------------------------------------------------------------------------------------------------------------+---------------------------------------------+---------------+--------------------------------------------------------------------------------------------------------------------------------------------------------------------------------------------------------------------------------------------------------------------------------------------------------------------------------------------------------------------------------------------------------------------------------------------------------------------------------------+\n",
      "|UsageClass|CheckoutType|MaterialType|CheckoutYear|CheckoutMonth|Checkouts|Title                                                                                                                                                                                                                                                           |ISBN|Creator                    |Subjects                                                                                                                                                                                                                                     |Publisher                                    |PublicationYear|ID_Material_String                                                                                                                                                                                                                                                                                                                                                                                                                                                                    |\n",
      "+----------+------------+------------+------------+-------------+---------+----------------------------------------------------------------------------------------------------------------------------------------------------------------------------------------------------------------------------------------------------------------+----+---------------------------+---------------------------------------------------------------------------------------------------------------------------------------------------------------------------------------------------------------------------------------------+---------------------------------------------+---------------+--------------------------------------------------------------------------------------------------------------------------------------------------------------------------------------------------------------------------------------------------------------------------------------------------------------------------------------------------------------------------------------------------------------------------------------------------------------------------------------+\n",
      "|Physical  |Horizon     |BOOK        |2007        |12           |1        |Opposite the Cross Keys / S.T. Haymon.                                                                                                                                                                                                                          |null|Haymon, S. T.              |Haymon S T Childhood and youth, Authors English 20th century Biography, England Social life and customs 20th century                                                                                                                         |St. Martin's Press,                          |c1988.         |Physical|BOOK|Opposite the Cross Keys / S.T. Haymon.|Haymon, S. T.|Haymon S T Childhood and youth, Authors English 20th century Biography, England Social life and customs 20th century|St. Martin's Press,|c1988.                                                                                                                                                                                                                                                                    |\n",
      "|Physical  |Horizon     |BOOK        |2007        |12           |1        |Power of persuasion                                                                                                                                                                                                                                             |null|null                       |Love stories, Political stability Fiction                                                                                                                                                                                                    |null                                         |null           |Physical|BOOK|Power of persuasion|Love stories, Political stability Fiction                                                                                                                                                                                                                                                                                                                                                                                                           |\n",
      "|Physical  |Horizon     |BOOK        |2007        |12           |1        |Cinema nirvana enlightenment lessons from the movies                                                                                                                                                                                                            |null|null                       |Motion pictures Moral and ethical aspects                                                                                                                                                                                                    |null                                         |null           |Physical|BOOK|Cinema nirvana enlightenment lessons from the movies|Motion pictures Moral and ethical aspects                                                                                                                                                                                                                                                                                                                                                                          |\n",
      "|Physical  |Horizon     |BOOK        |2007        |12           |2        |Nepodvedennye itogi                                                                                                                                                                                                                                             |null|null                       |Riazanov Eldar, Motion picture producers and directors Soviet Union Biography, Television producers and directors Soviet Union Biography, Comedy films Soviet Union History and criticism, Comedy programs Soviet Union History and criticism|null                                         |null           |Physical|BOOK|Nepodvedennye itogi|Riazanov Eldar, Motion picture producers and directors Soviet Union Biography, Television producers and directors Soviet Union Biography, Comedy films Soviet Union History and criticism, Comedy programs Soviet Union History and criticism                                                                                                                                                                                                       |\n",
      "|Physical  |Horizon     |VIDEODISC   |2007        |12           |4        |Xu Zhian He Yunshi music is live 2 ren jiao cha zu he la kuo 03 karaoke DVD                                                                                                                                                                                     |null|null                       |Popular music China Hong Kong                                                                                                                                                                                                                |null                                         |null           |Physical|VIDEODISC|Xu Zhian He Yunshi music is live 2 ren jiao cha zu he la kuo 03 karaoke DVD|Popular music China Hong Kong                                                                                                                                                                                                                                                                                                                                                          |\n",
      "|Physical  |Horizon     |BOOK        |2007        |12           |8        |Adverbs / Daniel Handler.                                                                                                                                                                                                                                       |null|Handler, Daniel            |Love stories                                                                                                                                                                                                                                 |Ecco,                                        |c2006.         |Physical|BOOK|Adverbs / Daniel Handler.|Handler, Daniel|Love stories|Ecco,|c2006.                                                                                                                                                                                                                                                                                                                                                                                                     |\n",
      "|Physical  |Horizon     |SOUNDDISC   |2007        |12           |4        |Empress Orchid                                                                                                                                                                                                                                                  |null|null                       |Historical fiction, Biographical fiction, China History Guangxu 1875 1908 Fiction, Cixi Empress dowager of China 1835 1908 Fiction, Empresses Fiction                                                                                        |null                                         |null           |Physical|SOUNDDISC|Empress Orchid|Historical fiction, Biographical fiction, China History Guangxu 1875 1908 Fiction, Cixi Empress dowager of China 1835 1908 Fiction, Empresses Fiction                                                                                                                                                                                                                                                                                               |\n",
      "|Physical  |Horizon     |BOOK        |2007        |12           |3        |Back to school with Betsy, written and illustrated by Carolyn Haywood.                                                                                                                                                                                          |null|Haywood, Carolyn, 1898-1990|null                                                                                                                                                                                                                                         |Harcourt, Brace                              |[1943]         |Physical|BOOK|Back to school with Betsy, written and illustrated by Carolyn Haywood.|Haywood, Carolyn, 1898-1990|Harcourt, Brace|[1943]                                                                                                                                                                                                                                                                                                                                               |\n",
      "|Physical  |Horizon     |BOOK        |2007        |12           |3        |Hidden Oregon the adventurers guide                                                                                                                                                                                                                             |null|null                       |Oregon Guidebooks, Outdoor recreation Oregon Guidebooks                                                                                                                                                                                      |null                                         |null           |Physical|BOOK|Hidden Oregon the adventurers guide|Oregon Guidebooks, Outdoor recreation Oregon Guidebooks                                                                                                                                                                                                                                                                                                                                                                             |\n",
      "|Physical  |Horizon     |VIDEODISC   |2007        |12           |9        |Ballykissangel. Series one [videorecording] / A Ballykea production for World Productions for the BBC in association with BBC Worldwide ; produced by Joy Lale ; written by John Forte and Kieran Prendiville ; directed by Paul Harrison and Richard Standeven.|null|null                       |Ireland Drama, Catholic Church Ireland Clergy Drama, City and town life Drama, Video recordings for the hearing impaired, Television comedies                                                                                                |BBC Video : Distributed by Warner Home Video,|c2003.         |Physical|VIDEODISC|Ballykissangel. Series one [videorecording] / A Ballykea production for World Productions for the BBC in association with BBC Worldwide ; produced by Joy Lale ; written by John Forte and Kieran Prendiville ; directed by Paul Harrison and Richard Standeven.|Ireland Drama, Catholic Church Ireland Clergy Drama, City and town life Drama, Video recordings for the hearing impaired, Television comedies|BBC Video : Distributed by Warner Home Video,|c2003.|\n",
      "+----------+------------+------------+------------+-------------+---------+----------------------------------------------------------------------------------------------------------------------------------------------------------------------------------------------------------------------------------------------------------------+----+---------------------------+---------------------------------------------------------------------------------------------------------------------------------------------------------------------------------------------------------------------------------------------+---------------------------------------------+---------------+--------------------------------------------------------------------------------------------------------------------------------------------------------------------------------------------------------------------------------------------------------------------------------------------------------------------------------------------------------------------------------------------------------------------------------------------------------------------------------------+\n",
      "only showing top 10 rows\n",
      "\n"
     ]
    }
   ],
   "source": [
    "seattle_library = seattle_library\\\n",
    "                    .withColumn(\"ID_Material_String\",\n",
    "                                concat_ws(\"|\",\"UsageClass\",\"MaterialType\", \"Title\", \"ISBN\", \"Creator\", \"Subjects\", \"Publisher\", \"PublicationYear\"))\n",
    "\n",
    "seattle_library.show(10,False)"
   ]
  },
  {
   "attachments": {},
   "cell_type": "markdown",
   "metadata": {},
   "source": [
    "### Adicionando ID_Checkout"
   ]
  },
  {
   "cell_type": "markdown",
   "metadata": {},
   "source": []
  },
  {
   "cell_type": "code",
   "execution_count": 9,
   "metadata": {},
   "outputs": [
    {
     "name": "stdout",
     "output_type": "stream",
     "text": [
      "+----------+------------+------------+------------+-------------+---------+--------------------+----+--------------------+--------------------+--------------------+---------------+--------------------+-----------+\n",
      "|UsageClass|CheckoutType|MaterialType|CheckoutYear|CheckoutMonth|Checkouts|               Title|ISBN|             Creator|            Subjects|           Publisher|PublicationYear|  ID_Material_String|ID_Checkout|\n",
      "+----------+------------+------------+------------+-------------+---------+--------------------+----+--------------------+--------------------+--------------------+---------------+--------------------+-----------+\n",
      "|  Physical|     Horizon|        BOOK|        2007|           12|        1|Opposite the Cros...|null|       Haymon, S. T.|Haymon S T Childh...| St. Martin's Press,|         c1988.|Physical|BOOK|Opp...|          0|\n",
      "|  Physical|     Horizon|        BOOK|        2007|           12|        1| Power of persuasion|null|                null|Love stories, Pol...|                null|           null|Physical|BOOK|Pow...|          1|\n",
      "|  Physical|     Horizon|        BOOK|        2007|           12|        1|Cinema nirvana en...|null|                null|Motion pictures M...|                null|           null|Physical|BOOK|Cin...|          2|\n",
      "|  Physical|     Horizon|        BOOK|        2007|           12|        2| Nepodvedennye itogi|null|                null|Riazanov Eldar, M...|                null|           null|Physical|BOOK|Nep...|          3|\n",
      "|  Physical|     Horizon|   VIDEODISC|        2007|           12|        4|Xu Zhian He Yunsh...|null|                null|Popular music Chi...|                null|           null|Physical|VIDEODIS...|          4|\n",
      "|  Physical|     Horizon|        BOOK|        2007|           12|        8|Adverbs / Daniel ...|null|     Handler, Daniel|        Love stories|               Ecco,|         c2006.|Physical|BOOK|Adv...|          5|\n",
      "|  Physical|     Horizon|   SOUNDDISC|        2007|           12|        4|      Empress Orchid|null|                null|Historical fictio...|                null|           null|Physical|SOUNDDIS...|          6|\n",
      "|  Physical|     Horizon|        BOOK|        2007|           12|        3|Back to school wi...|null|Haywood, Carolyn,...|                null|     Harcourt, Brace|         [1943]|Physical|BOOK|Bac...|          7|\n",
      "|  Physical|     Horizon|        BOOK|        2007|           12|        3|Hidden Oregon the...|null|                null|Oregon Guidebooks...|                null|           null|Physical|BOOK|Hid...|          8|\n",
      "|  Physical|     Horizon|   VIDEODISC|        2007|           12|        9|Ballykissangel. S...|null|                null|Ireland Drama, Ca...|BBC Video : Distr...|         c2003.|Physical|VIDEODIS...|          9|\n",
      "+----------+------------+------------+------------+-------------+---------+--------------------+----+--------------------+--------------------+--------------------+---------------+--------------------+-----------+\n",
      "only showing top 10 rows\n",
      "\n"
     ]
    }
   ],
   "source": [
    "seattle_library = seattle_library.withColumn(\"ID_Checkout\", monotonically_increasing_id())\n",
    "\n",
    "seattle_library.show(10)"
   ]
  },
  {
   "cell_type": "code",
   "execution_count": 10,
   "metadata": {},
   "outputs": [
    {
     "name": "stdout",
     "output_type": "stream",
     "text": [
      "root\n",
      " |-- UsageClass: string (nullable = true)\n",
      " |-- CheckoutType: string (nullable = true)\n",
      " |-- MaterialType: string (nullable = true)\n",
      " |-- CheckoutYear: string (nullable = true)\n",
      " |-- CheckoutMonth: string (nullable = true)\n",
      " |-- Checkouts: string (nullable = true)\n",
      " |-- Title: string (nullable = true)\n",
      " |-- ISBN: string (nullable = true)\n",
      " |-- Creator: string (nullable = true)\n",
      " |-- Subjects: string (nullable = true)\n",
      " |-- Publisher: string (nullable = true)\n",
      " |-- PublicationYear: string (nullable = true)\n",
      " |-- ID_Material_String: string (nullable = false)\n",
      " |-- ID_Checkout: long (nullable = false)\n",
      "\n"
     ]
    }
   ],
   "source": [
    "seattle_library.printSchema()\n"
   ]
  },
  {
   "attachments": {},
   "cell_type": "markdown",
   "metadata": {},
   "source": [
    "### Contando quantidade de valores nulos por coluna"
   ]
  },
  {
   "cell_type": "code",
   "execution_count": 25,
   "metadata": {},
   "outputs": [
    {
     "name": "stdout",
     "output_type": "stream",
     "text": [
      "+----------+------------+------------+------------+-------------+---------+-----+--------+--------+--------+---------+---------------+------------------+-----------+\n",
      "|UsageClass|CheckoutType|MaterialType|CheckoutYear|CheckoutMonth|Checkouts|Title|    ISBN| Creator|Subjects|Publisher|PublicationYear|ID_Material_String|ID_Checkout|\n",
      "+----------+------------+------------+------------+-------------+---------+-----+--------+--------+--------+---------+---------------+------------------+-----------+\n",
      "|         0|           0|           0|           0|            0|        0|    0|40244242|12769239| 1776845|  9517288|        9836061|                 0|          0|\n",
      "+----------+------------+------------+------------+-------------+---------+-----+--------+--------+--------+---------+---------------+------------------+-----------+\n",
      "\n"
     ]
    }
   ],
   "source": [
    "seattle_library.select([count(when(isnull(c),1)).alias(c) for c in seattle_library.columns]).show()"
   ]
  },
  {
   "cell_type": "code",
   "execution_count": 27,
   "metadata": {},
   "outputs": [
    {
     "name": "stdout",
     "output_type": "stream",
     "text": [
      "+----------+------------+------------+------------+-------------+---------+--------------------+----+-----------------+--------+--------------------+---------------+--------------------+------------+\n",
      "|UsageClass|CheckoutType|MaterialType|CheckoutYear|CheckoutMonth|Checkouts|               Title|ISBN|          Creator|Subjects|           Publisher|PublicationYear|  ID_Material_String| ID_Checkout|\n",
      "+----------+------------+------------+------------+-------------+---------+--------------------+----+-----------------+--------+--------------------+---------------+--------------------+------------+\n",
      "|   Digital|     Freegal|        SONG|        2016|           10|        1|        ! (Foreword)|null|Pain Of Salvation|    null|                null|           null|Digital|SONG|! (F...|300647727668|\n",
      "|   Digital|      Hoopla|       MUSIC|        2014|           11|        1|  !! Going Places !!|null|             null|     Pop|Shout Factory Rec...|           null|Digital|MUSIC|!! ...|214748801695|\n",
      "|   Digital|     Freegal|        SONG|        2015|            2|        1|!Ay... Llevame¡ (...|null|     Nina Pastori|    null|                null|           null|Digital|SONG|!Ay....|231928359773|\n",
      "|  Physical|     Horizon|        BOOK|        2017|            3|        4|!Buenos nachos! /...|null|    Hamadey, Gina|  Nachos|           Dovetail,|         [2016]|Physical|BOOK|!Bu...|300647866916|\n",
      "|  Physical|     Horizon|        BOOK|        2017|            9|        1|!Buenos nachos! /...|null|    Hamadey, Gina|  Nachos|           Dovetail,|         [2016]|Physical|BOOK|!Bu...|317828144912|\n",
      "|  Physical|     Horizon|        BOOK|        2017|            8|        2|!Buenos nachos! /...|null|    Hamadey, Gina|  Nachos|           Dovetail,|         [2016]|Physical|BOOK|!Bu...|317828083967|\n",
      "|  Physical|     Horizon|        BOOK|        2017|            2|        4|!Buenos nachos! /...|null|    Hamadey, Gina|  Nachos|           Dovetail,|         [2016]|Physical|BOOK|!Bu...|300647983089|\n",
      "|  Physical|     Horizon|        BOOK|        2017|            6|        1|!Buenos nachos! /...|null|    Hamadey, Gina|  Nachos|           Dovetail,|         [2016]|Physical|BOOK|!Bu...|309238130525|\n",
      "|  Physical|     Horizon|        BOOK|        2017|            5|        4|!Buenos nachos! /...|null|    Hamadey, Gina|  Nachos|           Dovetail,|         [2016]|Physical|BOOK|!Bu...|309238097907|\n",
      "|  Physical|     Horizon|        BOOK|        2017|            4|        3|!Buenos nachos! /...|null|    Hamadey, Gina|  Nachos|           Dovetail,|         [2016]|Physical|BOOK|!Bu...|309237694857|\n",
      "+----------+------------+------------+------------+-------------+---------+--------------------+----+-----------------+--------+--------------------+---------------+--------------------+------------+\n",
      "only showing top 10 rows\n",
      "\n"
     ]
    }
   ],
   "source": [
    "seattle_library.select('*')\\\n",
    "    .orderBy('Title',asceding=False)\\\n",
    "    .show(10)\n"
   ]
  },
  {
   "cell_type": "code",
   "execution_count": 32,
   "metadata": {},
   "outputs": [
    {
     "name": "stdout",
     "output_type": "stream",
     "text": [
      "+------------+--------------------+-----+\n",
      "|CheckoutYear|               Title|count|\n",
      "+------------+--------------------+-----+\n",
      "|        2007|          next place|   11|\n",
      "|        2007|Mazel tov Jewish ...|   11|\n",
      "|        2007|X 1999 Vol 14 Con...|    9|\n",
      "|        2007|pocket of tunes s...|    8|\n",
      "|        2007|Iron orchid / Stu...|   12|\n",
      "|        2007|If on a winter's ...|   12|\n",
      "|        2007|The virgin and th...|    1|\n",
      "|        2008|Things seen and u...|    6|\n",
      "|        2008|ILLM Zhizn kak pe...|    2|\n",
      "|        2008|Sex with the ligh...|   10|\n",
      "|        2008|Katie John. Pictu...|    5|\n",
      "|        2008|fascinating world...|    9|\n",
      "|        2008|Telling stories [...|   12|\n",
      "|        2008|Let me hear your ...|    8|\n",
      "|        2008|Baths your guide ...|    8|\n",
      "|        2008|David Burkes new ...|    4|\n",
      "|        2008| Sixth grade secrets|    4|\n",
      "|        2008|Heroes in Greek m...|   10|\n",
      "|        2008|From head to toe ...|   11|\n",
      "|        2008|Opportunities in ...|    4|\n",
      "+------------+--------------------+-----+\n",
      "only showing top 20 rows\n",
      "\n"
     ]
    }
   ],
   "source": [
    "seattle_library.select('CheckoutYear','Checkouts','Title')\\\n",
    "    .groupBy('CheckoutYear','Title')\\\n",
    "    .count()\\\n",
    "    .orderBy('count',asceding=False)\\\n",
    "    .show()"
   ]
  },
  {
   "attachments": {},
   "cell_type": "markdown",
   "metadata": {},
   "source": [
    "## Selecionando Dados"
   ]
  },
  {
   "cell_type": "code",
   "execution_count": 5,
   "metadata": {},
   "outputs": [
    {
     "data": {
      "text/plain": [
       "DataFrame[UsageClass: string, CheckoutType: string, MaterialType: string, CheckoutYear: string, CheckoutMonth: string, Checkouts: string, Title: string, ISBN: string, Creator: string, Subjects: string, Publisher: string, PublicationYear: string]"
      ]
     },
     "execution_count": 5,
     "metadata": {},
     "output_type": "execute_result"
    }
   ],
   "source": [
    "seattle_library\\\n",
    "    .select('*')"
   ]
  },
  {
   "cell_type": "code",
   "execution_count": 15,
   "metadata": {},
   "outputs": [
    {
     "name": "stdout",
     "output_type": "stream",
     "text": [
      "+--------------------+----------+--------------------+----+-------------------+---------------+\n",
      "|  ID_Material_String|UsageClass|               Title|ISBN|          Publisher|PublicationYear|\n",
      "+--------------------+----------+--------------------+----+-------------------+---------------+\n",
      "|Physical|BOOK|Opp...|  Physical|Opposite the Cros...|null|St. Martin's Press,|         c1988.|\n",
      "|Physical|BOOK|Pow...|  Physical| Power of persuasion|null|               null|           null|\n",
      "|Physical|BOOK|Cin...|  Physical|Cinema nirvana en...|null|               null|           null|\n",
      "|Physical|BOOK|Nep...|  Physical| Nepodvedennye itogi|null|               null|           null|\n",
      "|Physical|VIDEODIS...|  Physical|Xu Zhian He Yunsh...|null|               null|           null|\n",
      "+--------------------+----------+--------------------+----+-------------------+---------------+\n",
      "only showing top 5 rows\n",
      "\n"
     ]
    }
   ],
   "source": [
    "#Material\n",
    "seattle_library\\\n",
    "    .select('ID_Material_String','UsageClass','Title','ISBN','Publisher','PublicationYear')\\\n",
    "    .show(5)"
   ]
  },
  {
   "cell_type": "code",
   "execution_count": 23,
   "metadata": {},
   "outputs": [
    {
     "name": "stdout",
     "output_type": "stream",
     "text": [
      "+-----------+------------+------------+-------------+---------+--------------------+\n",
      "|ID_Checkout|CheckoutType|CheckoutYear|CheckoutMonth|Checkouts|  ID_Material_String|\n",
      "+-----------+------------+------------+-------------+---------+--------------------+\n",
      "|          0|     Horizon|        2007|           12|        1|Physical|BOOK|Opp...|\n",
      "|          1|     Horizon|        2007|           12|        1|Physical|BOOK|Pow...|\n",
      "|          2|     Horizon|        2007|           12|        1|Physical|BOOK|Cin...|\n",
      "|          3|     Horizon|        2007|           12|        2|Physical|BOOK|Nep...|\n",
      "|          4|     Horizon|        2007|           12|        4|Physical|VIDEODIS...|\n",
      "+-----------+------------+------------+-------------+---------+--------------------+\n",
      "only showing top 5 rows\n",
      "\n"
     ]
    }
   ],
   "source": [
    "#Checkouts_Month\n",
    "seattle_library\\\n",
    "    .select('ID_Checkout','CheckoutType','CheckoutYear','CheckoutMonth','Checkouts','ID_Material_String')\\\n",
    "    .show(5)"
   ]
  },
  {
   "cell_type": "code",
   "execution_count": 19,
   "metadata": {},
   "outputs": [
    {
     "name": "stdout",
     "output_type": "stream",
     "text": [
      "+------------+--------------------+\n",
      "|MaterialType|  ID_Material_String|\n",
      "+------------+--------------------+\n",
      "|        BOOK|Physical|BOOK|Opp...|\n",
      "|        BOOK|Physical|BOOK|Pow...|\n",
      "|        BOOK|Physical|BOOK|Cin...|\n",
      "|        BOOK|Physical|BOOK|Nep...|\n",
      "|   VIDEODISC|Physical|VIDEODIS...|\n",
      "+------------+--------------------+\n",
      "only showing top 5 rows\n",
      "\n"
     ]
    }
   ],
   "source": [
    "#Material_Type\n",
    "seattle_library\\\n",
    "    .select('MaterialType','ID_Material_String')\\\n",
    "    .show(5)"
   ]
  },
  {
   "cell_type": "code",
   "execution_count": 20,
   "metadata": {},
   "outputs": [
    {
     "name": "stdout",
     "output_type": "stream",
     "text": [
      "+-------------+--------------------+\n",
      "|      Creator|  ID_Material_String|\n",
      "+-------------+--------------------+\n",
      "|Haymon, S. T.|Physical|BOOK|Opp...|\n",
      "|         null|Physical|BOOK|Pow...|\n",
      "|         null|Physical|BOOK|Cin...|\n",
      "|         null|Physical|BOOK|Nep...|\n",
      "|         null|Physical|VIDEODIS...|\n",
      "+-------------+--------------------+\n",
      "only showing top 5 rows\n",
      "\n"
     ]
    }
   ],
   "source": [
    "#Creator\n",
    "seattle_library\\\n",
    "    .select('Creator','ID_Material_String')\\\n",
    "    .show(5)"
   ]
  },
  {
   "cell_type": "code",
   "execution_count": 22,
   "metadata": {},
   "outputs": [
    {
     "name": "stdout",
     "output_type": "stream",
     "text": [
      "+---------------------------------------------------------------------------------------------------------------------------------------------------------------------------------------------------------------------------------------------+-------------------------------------------------------------------------------------------------------------------------------------------------------------------------------------------------------------------------------------------------------------------------------+\n",
      "|Subjects                                                                                                                                                                                                                                     |ID_Material_String                                                                                                                                                                                                                                                             |\n",
      "+---------------------------------------------------------------------------------------------------------------------------------------------------------------------------------------------------------------------------------------------+-------------------------------------------------------------------------------------------------------------------------------------------------------------------------------------------------------------------------------------------------------------------------------+\n",
      "|Haymon S T Childhood and youth, Authors English 20th century Biography, England Social life and customs 20th century                                                                                                                         |Physical|BOOK|Opposite the Cross Keys / S.T. Haymon.|Haymon, S. T.|Haymon S T Childhood and youth, Authors English 20th century Biography, England Social life and customs 20th century|St. Martin's Press,|c1988.                                                             |\n",
      "|Love stories, Political stability Fiction                                                                                                                                                                                                    |Physical|BOOK|Power of persuasion|Love stories, Political stability Fiction                                                                                                                                                                                                    |\n",
      "|Motion pictures Moral and ethical aspects                                                                                                                                                                                                    |Physical|BOOK|Cinema nirvana enlightenment lessons from the movies|Motion pictures Moral and ethical aspects                                                                                                                                                                   |\n",
      "|Riazanov Eldar, Motion picture producers and directors Soviet Union Biography, Television producers and directors Soviet Union Biography, Comedy films Soviet Union History and criticism, Comedy programs Soviet Union History and criticism|Physical|BOOK|Nepodvedennye itogi|Riazanov Eldar, Motion picture producers and directors Soviet Union Biography, Television producers and directors Soviet Union Biography, Comedy films Soviet Union History and criticism, Comedy programs Soviet Union History and criticism|\n",
      "|Popular music China Hong Kong                                                                                                                                                                                                                |Physical|VIDEODISC|Xu Zhian He Yunshi music is live 2 ren jiao cha zu he la kuo 03 karaoke DVD|Popular music China Hong Kong                                                                                                                                                   |\n",
      "+---------------------------------------------------------------------------------------------------------------------------------------------------------------------------------------------------------------------------------------------+-------------------------------------------------------------------------------------------------------------------------------------------------------------------------------------------------------------------------------------------------------------------------------+\n",
      "only showing top 5 rows\n",
      "\n"
     ]
    }
   ],
   "source": [
    "#Subjects\n",
    "seattle_library\\\n",
    "    .select('Subjects','ID_Material_String')\\\n",
    "    .show(5,False)"
   ]
  },
  {
   "cell_type": "code",
   "execution_count": null,
   "metadata": {},
   "outputs": [],
   "source": []
  }
 ],
 "metadata": {
  "kernelspec": {
   "display_name": "Python 3",
   "language": "python",
   "name": "python3"
  },
  "language_info": {
   "codemirror_mode": {
    "name": "ipython",
    "version": 3
   },
   "file_extension": ".py",
   "mimetype": "text/x-python",
   "name": "python",
   "nbconvert_exporter": "python",
   "pygments_lexer": "ipython3",
   "version": "3.9.13"
  },
  "orig_nbformat": 4,
  "vscode": {
   "interpreter": {
    "hash": "c89dac2000cd39b6c6afdbb40384525553e908a214fa5e3caa43ad6708c415f4"
   }
  }
 },
 "nbformat": 4,
 "nbformat_minor": 2
}
