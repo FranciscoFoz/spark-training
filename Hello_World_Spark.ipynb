{
 "cells": [
  {
   "attachments": {},
   "cell_type": "markdown",
   "metadata": {},
   "source": [
    "# Hello World - Spark\n"
   ]
  },
  {
   "attachments": {},
   "cell_type": "markdown",
   "metadata": {},
   "source": [
    "https://spark.apache.org/docs/latest/api/python/user_guide/index.html"
   ]
  },
  {
   "cell_type": "code",
   "execution_count": 1,
   "metadata": {},
   "outputs": [],
   "source": [
    "import os\n",
    "\n",
    "os.environ['SPARK_HOME'] = 'C:\\spark\\spark-3.1.2-bin-hadoop2.7'\n",
    "os.environ['JAVA_HOME'] = 'C:\\Program Files\\Java\\jre1.8.0_361'\n",
    "os.environ['HADOOP_HOME'] = 'C:\\spark\\spark-3.2.1-bin-hadoop2.7\\hadoop'\n",
    "\n",
    "import findspark\n",
    "findspark.init()\n",
    "\n",
    "from pyspark.sql import SparkSession\n",
    "from pyspark.sql.types import DoubleType, StringType\n",
    "from pyspark.sql.functions import *\n",
    "\n"
   ]
  },
  {
   "cell_type": "code",
   "execution_count": 2,
   "metadata": {},
   "outputs": [
    {
     "data": {
      "text/html": [
       "\n",
       "            <div>\n",
       "                <p><b>SparkSession - in-memory</b></p>\n",
       "                \n",
       "        <div>\n",
       "            <p><b>SparkContext</b></p>\n",
       "\n",
       "            <p><a href=\"http://192.168.0.4:4050\">Spark UI</a></p>\n",
       "\n",
       "            <dl>\n",
       "              <dt>Version</dt>\n",
       "                <dd><code>v3.1.2</code></dd>\n",
       "              <dt>Master</dt>\n",
       "                <dd><code>local[*]</code></dd>\n",
       "              <dt>AppName</dt>\n",
       "                <dd><code>Iniciando com Spark</code></dd>\n",
       "            </dl>\n",
       "        </div>\n",
       "        \n",
       "            </div>\n",
       "        "
      ],
      "text/plain": [
       "<pyspark.sql.session.SparkSession at 0x26c34263430>"
      ]
     },
     "execution_count": 2,
     "metadata": {},
     "output_type": "execute_result"
    }
   ],
   "source": [
    "spark = SparkSession.builder\\\n",
    "    .master('local[*]')\\\n",
    "    .appName(\"Iniciando com Spark\")\\\n",
    "    .config('spark.ui.port', '4050')\\\n",
    "    .getOrCreate()\n",
    "\n",
    "spark"
   ]
  },
  {
   "attachments": {},
   "cell_type": "markdown",
   "metadata": {},
   "source": [
    "# Importando dados"
   ]
  },
  {
   "cell_type": "code",
   "execution_count": 3,
   "metadata": {},
   "outputs": [
    {
     "name": "stdout",
     "output_type": "stream",
     "text": [
      "+----------+------------+------------+------------+-------------+---------+--------------------+----+--------------------+--------------------+--------------------+---------------+\n",
      "|UsageClass|CheckoutType|MaterialType|CheckoutYear|CheckoutMonth|Checkouts|               Title|ISBN|             Creator|            Subjects|           Publisher|PublicationYear|\n",
      "+----------+------------+------------+------------+-------------+---------+--------------------+----+--------------------+--------------------+--------------------+---------------+\n",
      "|  Physical|     Horizon|        BOOK|        2007|           12|        1|Opposite the Cros...|null|       Haymon, S. T.|Haymon S T Childh...| St. Martin's Press,|         c1988.|\n",
      "|  Physical|     Horizon|        BOOK|        2007|           12|        1| Power of persuasion|null|                null|Love stories, Pol...|                null|           null|\n",
      "|  Physical|     Horizon|        BOOK|        2007|           12|        1|Cinema nirvana en...|null|                null|Motion pictures M...|                null|           null|\n",
      "|  Physical|     Horizon|        BOOK|        2007|           12|        2| Nepodvedennye itogi|null|                null|Riazanov Eldar, M...|                null|           null|\n",
      "|  Physical|     Horizon|   VIDEODISC|        2007|           12|        4|Xu Zhian He Yunsh...|null|                null|Popular music Chi...|                null|           null|\n",
      "|  Physical|     Horizon|        BOOK|        2007|           12|        8|Adverbs / Daniel ...|null|     Handler, Daniel|        Love stories|               Ecco,|         c2006.|\n",
      "|  Physical|     Horizon|   SOUNDDISC|        2007|           12|        4|      Empress Orchid|null|                null|Historical fictio...|                null|           null|\n",
      "|  Physical|     Horizon|        BOOK|        2007|           12|        3|Back to school wi...|null|Haywood, Carolyn,...|                null|     Harcourt, Brace|         [1943]|\n",
      "|  Physical|     Horizon|        BOOK|        2007|           12|        3|Hidden Oregon the...|null|                null|Oregon Guidebooks...|                null|           null|\n",
      "|  Physical|     Horizon|   VIDEODISC|        2007|           12|        9|Ballykissangel. S...|null|                null|Ireland Drama, Ca...|BBC Video : Distr...|         c2003.|\n",
      "|  Physical|     Horizon|        BOOK|        2007|           12|        1|Kremlin gold : 1,...|null|                null|Gosudarstvennaia ...|Distributed by H....|         c2000.|\n",
      "|  Physical|     Horizon|        BOOK|        2007|           12|        2|       Final verdict|null|                null|Mystery fiction, ...|                null|           null|\n",
      "|  Physical|     Horizon|   VIDEOCASS|        2007|           12|        1|        Undercurrent|null|                null|       Feature films|                null|           null|\n",
      "|  Physical|     Horizon|        BOOK|        2007|           12|        1|          Summertime|null|                null|Suspense fiction,...|                null|           null|\n",
      "|  Physical|     Horizon|        BOOK|        2007|           12|        4|    Unshapely things|null|                null|     Fantasy fiction|                null|           null|\n",
      "|  Physical|     Horizon|        BOOK|        2007|           12|        1|      psoriasis cure|null|                null|Psoriasis Treatme...|                null|           null|\n",
      "|  Physical|     Horizon|        BOOK|        2007|           12|        7|The story of arch...|null|   Glancey, Jonathan|Architecture History| Dorling Kindersley,|          2000.|\n",
      "|  Physical|     Horizon|        BOOK|        2007|           12|        4|courage to teach ...|null|                null|Teaching, Teacher...|                null|           null|\n",
      "|  Physical|     Horizon|   VIDEODISC|        2007|           12|       17|Mrs. Miniver [vid...|null|                null|Middle class fami...|  Warner Home Video,| [2004], c1942.|\n",
      "|  Physical|     Horizon|        BOOK|        2007|           12|        2|The remembering s...|null| Russell, Barbara T.|Costa Rican Ameri...|Farrar Straus Gir...|          2004.|\n",
      "+----------+------------+------------+------------+-------------+---------+--------------------+----+--------------------+--------------------+--------------------+---------------+\n",
      "only showing top 20 rows\n",
      "\n"
     ]
    }
   ],
   "source": [
    "seattle_library = spark.read.option(\"header\",\"true\").csv('Checkouts_by_Title.csv')\n",
    "seattle_library.show()"
   ]
  },
  {
   "attachments": {},
   "cell_type": "markdown",
   "metadata": {},
   "source": [
    "### Adicionando ID_Material"
   ]
  },
  {
   "cell_type": "code",
   "execution_count": 4,
   "metadata": {},
   "outputs": [
    {
     "name": "stdout",
     "output_type": "stream",
     "text": [
      "+----------+------------+------------+------------+-------------+---------+----------------------------------------------------------------------------------------------------------------------------------------------------------------------------------------------------------------------------------------------------------------+----+---------------------------+---------------------------------------------------------------------------------------------------------------------------------------------------------------------------------------------------------------------------------------------+---------------------------------------------+---------------+----------------------------------------------------------------+\n",
      "|UsageClass|CheckoutType|MaterialType|CheckoutYear|CheckoutMonth|Checkouts|Title                                                                                                                                                                                                                                                           |ISBN|Creator                    |Subjects                                                                                                                                                                                                                                     |Publisher                                    |PublicationYear|ID_Material                                                     |\n",
      "+----------+------------+------------+------------+-------------+---------+----------------------------------------------------------------------------------------------------------------------------------------------------------------------------------------------------------------------------------------------------------------+----+---------------------------+---------------------------------------------------------------------------------------------------------------------------------------------------------------------------------------------------------------------------------------------+---------------------------------------------+---------------+----------------------------------------------------------------+\n",
      "|Physical  |Horizon     |BOOK        |2007        |12           |1        |Opposite the Cross Keys / S.T. Haymon.                                                                                                                                                                                                                          |null|Haymon, S. T.              |Haymon S T Childhood and youth, Authors English 20th century Biography, England Social life and customs 20th century                                                                                                                         |St. Martin's Press,                          |c1988.         |435cb8e8e17d73133e338a535e72f30f25ea15179691dc04b4e492447e2f2bdf|\n",
      "|Physical  |Horizon     |BOOK        |2007        |12           |1        |Power of persuasion                                                                                                                                                                                                                                             |null|null                       |Love stories, Political stability Fiction                                                                                                                                                                                                    |null                                         |null           |8dd007d2173f57e16e30a050fb9ce05996ff7b17f3422db8bf3928faada2d47b|\n",
      "|Physical  |Horizon     |BOOK        |2007        |12           |1        |Cinema nirvana enlightenment lessons from the movies                                                                                                                                                                                                            |null|null                       |Motion pictures Moral and ethical aspects                                                                                                                                                                                                    |null                                         |null           |6bf3ac5e1d619e4579ee77f0c52e6a41eda29ddda1b9be8f72c2721854164a2d|\n",
      "|Physical  |Horizon     |BOOK        |2007        |12           |2        |Nepodvedennye itogi                                                                                                                                                                                                                                             |null|null                       |Riazanov Eldar, Motion picture producers and directors Soviet Union Biography, Television producers and directors Soviet Union Biography, Comedy films Soviet Union History and criticism, Comedy programs Soviet Union History and criticism|null                                         |null           |401b0417fcbc904b5e8e03d0ef23b4ce883317b8cfb83681d3664ff5a3758b49|\n",
      "|Physical  |Horizon     |VIDEODISC   |2007        |12           |4        |Xu Zhian He Yunshi music is live 2 ren jiao cha zu he la kuo 03 karaoke DVD                                                                                                                                                                                     |null|null                       |Popular music China Hong Kong                                                                                                                                                                                                                |null                                         |null           |95686048521296ba224ac8664ccf7c466ccabfdcf92cba9c8d526b3ddc986525|\n",
      "|Physical  |Horizon     |BOOK        |2007        |12           |8        |Adverbs / Daniel Handler.                                                                                                                                                                                                                                       |null|Handler, Daniel            |Love stories                                                                                                                                                                                                                                 |Ecco,                                        |c2006.         |e2294ea01cff8690a86fd3ecf0250f929c9997cd11b5c39df92b71e2a65b4058|\n",
      "|Physical  |Horizon     |SOUNDDISC   |2007        |12           |4        |Empress Orchid                                                                                                                                                                                                                                                  |null|null                       |Historical fiction, Biographical fiction, China History Guangxu 1875 1908 Fiction, Cixi Empress dowager of China 1835 1908 Fiction, Empresses Fiction                                                                                        |null                                         |null           |6012d180ef2cabce932c8b0c46826947bb9e55087b69303af81cc4f6bfc3cae0|\n",
      "|Physical  |Horizon     |BOOK        |2007        |12           |3        |Back to school with Betsy, written and illustrated by Carolyn Haywood.                                                                                                                                                                                          |null|Haywood, Carolyn, 1898-1990|null                                                                                                                                                                                                                                         |Harcourt, Brace                              |[1943]         |32d67b645caf07ed72266a67aea160c74e9b6c0833427f2439f3378109bf17d3|\n",
      "|Physical  |Horizon     |BOOK        |2007        |12           |3        |Hidden Oregon the adventurers guide                                                                                                                                                                                                                             |null|null                       |Oregon Guidebooks, Outdoor recreation Oregon Guidebooks                                                                                                                                                                                      |null                                         |null           |148f940fa46e290b33c0041480acef7174d111a8fb73bf6f2c8b344849b54c84|\n",
      "|Physical  |Horizon     |VIDEODISC   |2007        |12           |9        |Ballykissangel. Series one [videorecording] / A Ballykea production for World Productions for the BBC in association with BBC Worldwide ; produced by Joy Lale ; written by John Forte and Kieran Prendiville ; directed by Paul Harrison and Richard Standeven.|null|null                       |Ireland Drama, Catholic Church Ireland Clergy Drama, City and town life Drama, Video recordings for the hearing impaired, Television comedies                                                                                                |BBC Video : Distributed by Warner Home Video,|c2003.         |6922005b309323114c8bb2cf706fb7a39afc2d222c88378f8f7c2c3b16a95d75|\n",
      "+----------+------------+------------+------------+-------------+---------+----------------------------------------------------------------------------------------------------------------------------------------------------------------------------------------------------------------------------------------------------------------+----+---------------------------+---------------------------------------------------------------------------------------------------------------------------------------------------------------------------------------------------------------------------------------------+---------------------------------------------+---------------+----------------------------------------------------------------+\n",
      "only showing top 10 rows\n",
      "\n"
     ]
    }
   ],
   "source": [
    "seattle_library = seattle_library\\\n",
    "                    .withColumn(\"ID_Material\",\n",
    "                                sha2(concat_ws(\"|\",\"UsageClass\",\"MaterialType\", \"Title\", \"ISBN\", \"Creator\", \"Subjects\", \"Publisher\", \"PublicationYear\"),256))\n",
    "\n",
    "seattle_library.show(10,False)"
   ]
  },
  {
   "cell_type": "code",
   "execution_count": 5,
   "metadata": {},
   "outputs": [],
   "source": [
    "seattle_library.ID_Material = sha2(seattle_library.ID_Material,256)"
   ]
  },
  {
   "cell_type": "code",
   "execution_count": 6,
   "metadata": {},
   "outputs": [
    {
     "name": "stdout",
     "output_type": "stream",
     "text": [
      "+----------+------------+------------+------------+-------------+---------+--------------------+----+--------------------+--------------------+--------------------+---------------+--------------------+\n",
      "|UsageClass|CheckoutType|MaterialType|CheckoutYear|CheckoutMonth|Checkouts|               Title|ISBN|             Creator|            Subjects|           Publisher|PublicationYear|         ID_Material|\n",
      "+----------+------------+------------+------------+-------------+---------+--------------------+----+--------------------+--------------------+--------------------+---------------+--------------------+\n",
      "|  Physical|     Horizon|        BOOK|        2007|           12|        1|Opposite the Cros...|null|       Haymon, S. T.|Haymon S T Childh...| St. Martin's Press,|         c1988.|435cb8e8e17d73133...|\n",
      "|  Physical|     Horizon|        BOOK|        2007|           12|        1| Power of persuasion|null|                null|Love stories, Pol...|                null|           null|8dd007d2173f57e16...|\n",
      "|  Physical|     Horizon|        BOOK|        2007|           12|        1|Cinema nirvana en...|null|                null|Motion pictures M...|                null|           null|6bf3ac5e1d619e457...|\n",
      "|  Physical|     Horizon|        BOOK|        2007|           12|        2| Nepodvedennye itogi|null|                null|Riazanov Eldar, M...|                null|           null|401b0417fcbc904b5...|\n",
      "|  Physical|     Horizon|   VIDEODISC|        2007|           12|        4|Xu Zhian He Yunsh...|null|                null|Popular music Chi...|                null|           null|95686048521296ba2...|\n",
      "|  Physical|     Horizon|        BOOK|        2007|           12|        8|Adverbs / Daniel ...|null|     Handler, Daniel|        Love stories|               Ecco,|         c2006.|e2294ea01cff8690a...|\n",
      "|  Physical|     Horizon|   SOUNDDISC|        2007|           12|        4|      Empress Orchid|null|                null|Historical fictio...|                null|           null|6012d180ef2cabce9...|\n",
      "|  Physical|     Horizon|        BOOK|        2007|           12|        3|Back to school wi...|null|Haywood, Carolyn,...|                null|     Harcourt, Brace|         [1943]|32d67b645caf07ed7...|\n",
      "|  Physical|     Horizon|        BOOK|        2007|           12|        3|Hidden Oregon the...|null|                null|Oregon Guidebooks...|                null|           null|148f940fa46e290b3...|\n",
      "|  Physical|     Horizon|   VIDEODISC|        2007|           12|        9|Ballykissangel. S...|null|                null|Ireland Drama, Ca...|BBC Video : Distr...|         c2003.|6922005b309323114...|\n",
      "+----------+------------+------------+------------+-------------+---------+--------------------+----+--------------------+--------------------+--------------------+---------------+--------------------+\n",
      "only showing top 10 rows\n",
      "\n"
     ]
    }
   ],
   "source": [
    "seattle_library.show(10)"
   ]
  },
  {
   "attachments": {},
   "cell_type": "markdown",
   "metadata": {},
   "source": [
    "### Adicionando ID_Checkout"
   ]
  },
  {
   "cell_type": "code",
   "execution_count": 7,
   "metadata": {},
   "outputs": [
    {
     "name": "stdout",
     "output_type": "stream",
     "text": [
      "+----------+------------+------------+------------+-------------+---------+--------------------+----+--------------------+--------------------+--------------------+---------------+--------------------+-----------+\n",
      "|UsageClass|CheckoutType|MaterialType|CheckoutYear|CheckoutMonth|Checkouts|               Title|ISBN|             Creator|            Subjects|           Publisher|PublicationYear|         ID_Material|ID_Checkout|\n",
      "+----------+------------+------------+------------+-------------+---------+--------------------+----+--------------------+--------------------+--------------------+---------------+--------------------+-----------+\n",
      "|  Physical|     Horizon|        BOOK|        2007|           12|        1|Opposite the Cros...|null|       Haymon, S. T.|Haymon S T Childh...| St. Martin's Press,|         c1988.|435cb8e8e17d73133...|          0|\n",
      "|  Physical|     Horizon|        BOOK|        2007|           12|        1| Power of persuasion|null|                null|Love stories, Pol...|                null|           null|8dd007d2173f57e16...|          1|\n",
      "|  Physical|     Horizon|        BOOK|        2007|           12|        1|Cinema nirvana en...|null|                null|Motion pictures M...|                null|           null|6bf3ac5e1d619e457...|          2|\n",
      "|  Physical|     Horizon|        BOOK|        2007|           12|        2| Nepodvedennye itogi|null|                null|Riazanov Eldar, M...|                null|           null|401b0417fcbc904b5...|          3|\n",
      "|  Physical|     Horizon|   VIDEODISC|        2007|           12|        4|Xu Zhian He Yunsh...|null|                null|Popular music Chi...|                null|           null|95686048521296ba2...|          4|\n",
      "|  Physical|     Horizon|        BOOK|        2007|           12|        8|Adverbs / Daniel ...|null|     Handler, Daniel|        Love stories|               Ecco,|         c2006.|e2294ea01cff8690a...|          5|\n",
      "|  Physical|     Horizon|   SOUNDDISC|        2007|           12|        4|      Empress Orchid|null|                null|Historical fictio...|                null|           null|6012d180ef2cabce9...|          6|\n",
      "|  Physical|     Horizon|        BOOK|        2007|           12|        3|Back to school wi...|null|Haywood, Carolyn,...|                null|     Harcourt, Brace|         [1943]|32d67b645caf07ed7...|          7|\n",
      "|  Physical|     Horizon|        BOOK|        2007|           12|        3|Hidden Oregon the...|null|                null|Oregon Guidebooks...|                null|           null|148f940fa46e290b3...|          8|\n",
      "|  Physical|     Horizon|   VIDEODISC|        2007|           12|        9|Ballykissangel. S...|null|                null|Ireland Drama, Ca...|BBC Video : Distr...|         c2003.|6922005b309323114...|          9|\n",
      "+----------+------------+------------+------------+-------------+---------+--------------------+----+--------------------+--------------------+--------------------+---------------+--------------------+-----------+\n",
      "only showing top 10 rows\n",
      "\n"
     ]
    }
   ],
   "source": [
    "seattle_library = seattle_library.withColumn(\"ID_Checkout\", monotonically_increasing_id())\n",
    "\n",
    "seattle_library.show(10)"
   ]
  },
  {
   "cell_type": "code",
   "execution_count": 8,
   "metadata": {},
   "outputs": [
    {
     "name": "stdout",
     "output_type": "stream",
     "text": [
      "root\n",
      " |-- UsageClass: string (nullable = true)\n",
      " |-- CheckoutType: string (nullable = true)\n",
      " |-- MaterialType: string (nullable = true)\n",
      " |-- CheckoutYear: string (nullable = true)\n",
      " |-- CheckoutMonth: string (nullable = true)\n",
      " |-- Checkouts: string (nullable = true)\n",
      " |-- Title: string (nullable = true)\n",
      " |-- ISBN: string (nullable = true)\n",
      " |-- Creator: string (nullable = true)\n",
      " |-- Subjects: string (nullable = true)\n",
      " |-- Publisher: string (nullable = true)\n",
      " |-- PublicationYear: string (nullable = true)\n",
      " |-- ID_Material: string (nullable = true)\n",
      " |-- ID_Checkout: long (nullable = false)\n",
      "\n"
     ]
    }
   ],
   "source": [
    "seattle_library.printSchema()\n"
   ]
  },
  {
   "attachments": {},
   "cell_type": "markdown",
   "metadata": {},
   "source": [
    "### Contando quantidade de valores nulos por coluna"
   ]
  },
  {
   "cell_type": "code",
   "execution_count": 9,
   "metadata": {},
   "outputs": [],
   "source": [
    "#seattle_library.select([count(when(isnull(c),1)).alias(c) for c in seattle_library.columns]).show()"
   ]
  },
  {
   "cell_type": "code",
   "execution_count": 10,
   "metadata": {},
   "outputs": [],
   "source": [
    "#seattle_library.select('*')\\\n",
    " #   .orderBy('Title',asceding=False)\\\n",
    "  #  .show(10)\n"
   ]
  },
  {
   "cell_type": "code",
   "execution_count": 11,
   "metadata": {},
   "outputs": [],
   "source": [
    "#seattle_library.select('CheckoutYear','Checkouts','Title')\\\n",
    " #   .groupBy('CheckoutYear','Title')\\\n",
    "  #  .count()\\\n",
    "   # .orderBy('count',asceding=False)\\\n",
    "    #.show()"
   ]
  },
  {
   "attachments": {},
   "cell_type": "markdown",
   "metadata": {},
   "source": [
    "## Selecionando Dados"
   ]
  },
  {
   "attachments": {},
   "cell_type": "markdown",
   "metadata": {},
   "source": [
    "## Tabela Material"
   ]
  },
  {
   "cell_type": "code",
   "execution_count": 12,
   "metadata": {},
   "outputs": [
    {
     "name": "stdout",
     "output_type": "stream",
     "text": [
      "+--------------------+----------+--------------------+----+-------------------+---------------+\n",
      "|         ID_Material|UsageClass|               Title|ISBN|          Publisher|PublicationYear|\n",
      "+--------------------+----------+--------------------+----+-------------------+---------------+\n",
      "|435cb8e8e17d73133...|  Physical|Opposite the Cros...|null|St. Martin's Press,|         c1988.|\n",
      "|8dd007d2173f57e16...|  Physical| Power of persuasion|null|               null|           null|\n",
      "|6bf3ac5e1d619e457...|  Physical|Cinema nirvana en...|null|               null|           null|\n",
      "|401b0417fcbc904b5...|  Physical| Nepodvedennye itogi|null|               null|           null|\n",
      "|95686048521296ba2...|  Physical|Xu Zhian He Yunsh...|null|               null|           null|\n",
      "+--------------------+----------+--------------------+----+-------------------+---------------+\n",
      "only showing top 5 rows\n",
      "\n"
     ]
    }
   ],
   "source": [
    "#Material\n",
    "seattle_library_material = seattle_library\\\n",
    "            .select('ID_Material','UsageClass','Title','ISBN','Publisher','PublicationYear')\n",
    "\n",
    "seattle_library_material.show(5)"
   ]
  },
  {
   "cell_type": "code",
   "execution_count": 13,
   "metadata": {},
   "outputs": [],
   "source": [
    "#seattle_library_material.select('Publisher').distinct().collect()"
   ]
  },
  {
   "attachments": {},
   "cell_type": "markdown",
   "metadata": {},
   "source": [
    "## Tabela Checkout Month"
   ]
  },
  {
   "cell_type": "code",
   "execution_count": 14,
   "metadata": {},
   "outputs": [
    {
     "name": "stdout",
     "output_type": "stream",
     "text": [
      "+-----------+------------+------------+-------------+---------+----------------------------------------------------------------+\n",
      "|ID_Checkout|CheckoutType|CheckoutYear|CheckoutMonth|Checkouts|ID_Material                                                     |\n",
      "+-----------+------------+------------+-------------+---------+----------------------------------------------------------------+\n",
      "|0          |Horizon     |2007        |12           |1        |435cb8e8e17d73133e338a535e72f30f25ea15179691dc04b4e492447e2f2bdf|\n",
      "|1          |Horizon     |2007        |12           |1        |8dd007d2173f57e16e30a050fb9ce05996ff7b17f3422db8bf3928faada2d47b|\n",
      "|2          |Horizon     |2007        |12           |1        |6bf3ac5e1d619e4579ee77f0c52e6a41eda29ddda1b9be8f72c2721854164a2d|\n",
      "|3          |Horizon     |2007        |12           |2        |401b0417fcbc904b5e8e03d0ef23b4ce883317b8cfb83681d3664ff5a3758b49|\n",
      "|4          |Horizon     |2007        |12           |4        |95686048521296ba224ac8664ccf7c466ccabfdcf92cba9c8d526b3ddc986525|\n",
      "+-----------+------------+------------+-------------+---------+----------------------------------------------------------------+\n",
      "only showing top 5 rows\n",
      "\n"
     ]
    }
   ],
   "source": [
    "#Checkouts_Month\n",
    "seattle_library_checkouts_month = seattle_library\\\n",
    "            .select('ID_Checkout','CheckoutType','CheckoutYear','CheckoutMonth','Checkouts','ID_Material')\n",
    "\n",
    "seattle_library_checkouts_month.show(5,False)"
   ]
  },
  {
   "cell_type": "code",
   "execution_count": 15,
   "metadata": {},
   "outputs": [],
   "source": [
    "#seattle_library_checkouts_month.filter(\"ID_Material == '435cb8e8e17d73133e338a535e72f30f25ea15179691dc04b4e492447e2f2bdf'\").show()"
   ]
  },
  {
   "attachments": {},
   "cell_type": "markdown",
   "metadata": {},
   "source": [
    "## Tabela Material Type"
   ]
  },
  {
   "cell_type": "code",
   "execution_count": 16,
   "metadata": {},
   "outputs": [
    {
     "name": "stdout",
     "output_type": "stream",
     "text": [
      "+------------+----------------------------------------------------------------+\n",
      "|MaterialType|ID_Material                                                     |\n",
      "+------------+----------------------------------------------------------------+\n",
      "|BOOK        |435cb8e8e17d73133e338a535e72f30f25ea15179691dc04b4e492447e2f2bdf|\n",
      "|BOOK        |8dd007d2173f57e16e30a050fb9ce05996ff7b17f3422db8bf3928faada2d47b|\n",
      "|BOOK        |6bf3ac5e1d619e4579ee77f0c52e6a41eda29ddda1b9be8f72c2721854164a2d|\n",
      "|BOOK        |401b0417fcbc904b5e8e03d0ef23b4ce883317b8cfb83681d3664ff5a3758b49|\n",
      "|VIDEODISC   |95686048521296ba224ac8664ccf7c466ccabfdcf92cba9c8d526b3ddc986525|\n",
      "+------------+----------------------------------------------------------------+\n",
      "only showing top 5 rows\n",
      "\n"
     ]
    }
   ],
   "source": [
    "#Material_Type\n",
    "seattle_library_material_type = seattle_library\\\n",
    "        .select('MaterialType','ID_Material')\n",
    "\n",
    "seattle_library_material_type.show(5,False)"
   ]
  },
  {
   "cell_type": "code",
   "execution_count": 17,
   "metadata": {},
   "outputs": [
    {
     "name": "stdout",
     "output_type": "stream",
     "text": [
      "+------------+--------------------+---------------+---------------+---------------+---------------+---------------+---------------+\n",
      "|MaterialType|         ID_Material|material_type_0|material_type_1|material_type_2|material_type_3|material_type_4|material_type_5|\n",
      "+------------+--------------------+---------------+---------------+---------------+---------------+---------------+---------------+\n",
      "|        BOOK|435cb8e8e17d73133...|           BOOK|           null|           null|           null|           null|           null|\n",
      "|        BOOK|8dd007d2173f57e16...|           BOOK|           null|           null|           null|           null|           null|\n",
      "|        BOOK|6bf3ac5e1d619e457...|           BOOK|           null|           null|           null|           null|           null|\n",
      "|        BOOK|401b0417fcbc904b5...|           BOOK|           null|           null|           null|           null|           null|\n",
      "|   VIDEODISC|95686048521296ba2...|      VIDEODISC|           null|           null|           null|           null|           null|\n",
      "|        BOOK|e2294ea01cff8690a...|           BOOK|           null|           null|           null|           null|           null|\n",
      "|   SOUNDDISC|6012d180ef2cabce9...|      SOUNDDISC|           null|           null|           null|           null|           null|\n",
      "|        BOOK|32d67b645caf07ed7...|           BOOK|           null|           null|           null|           null|           null|\n",
      "|        BOOK|148f940fa46e290b3...|           BOOK|           null|           null|           null|           null|           null|\n",
      "|   VIDEODISC|6922005b309323114...|      VIDEODISC|           null|           null|           null|           null|           null|\n",
      "+------------+--------------------+---------------+---------------+---------------+---------------+---------------+---------------+\n",
      "only showing top 10 rows\n",
      "\n"
     ]
    }
   ],
   "source": [
    "split_col = split(seattle_library_material_type['MaterialType'], ',')\n",
    "\n",
    "df2 = seattle_library_material_type\\\n",
    "    .withColumn('material_type_0', split_col.getItem(0)) \\\n",
    "    .withColumn('material_type_1', split_col.getItem(1)) \\\n",
    "    .withColumn('material_type_2', split_col.getItem(2)) \\\n",
    "    .withColumn('material_type_3', split_col.getItem(3)) \\\n",
    "    .withColumn('material_type_4', split_col.getItem(4)) \\\n",
    "    .withColumn('material_type_5', split_col.getItem(5))\n",
    "df2.show(10)"
   ]
  },
  {
   "cell_type": "code",
   "execution_count": 18,
   "metadata": {},
   "outputs": [],
   "source": [
    "def melt(df, id_vars, value_vars, var_name, value_name):\n",
    "    # Lista de colunas não pivoteadas\n",
    "    id_expr = [col(c) for c in id_vars]\n",
    "\n",
    "    # Cria uma lista de structs das colunas pivotadas\n",
    "    value_cols = [struct(lit(c).alias(var_name), col(c).alias(value_name)) for c in value_vars]\n",
    "\n",
    "    # Cria um array com todas as colunas pivotadas\n",
    "    expr = array(*value_cols).alias(\"vars\")\n",
    "\n",
    "    # Transforma as colunas pivotadas em linhas\n",
    "    df = df.select(*id_expr + [expr]).withColumn(\"vars\", explode(\"vars\"))\n",
    "\n",
    "    # Separa as colunas variável e valor\n",
    "    df = df.select(*id_expr + [col(\"vars.\" + var_name), col(\"vars.\" + value_name)])\n",
    "\n",
    "    return df"
   ]
  },
  {
   "cell_type": "code",
   "execution_count": 19,
   "metadata": {},
   "outputs": [
    {
     "name": "stdout",
     "output_type": "stream",
     "text": [
      "+----------------------------------------------------------------+------------+\n",
      "|ID_Material                                                     |MaterialType|\n",
      "+----------------------------------------------------------------+------------+\n",
      "|435cb8e8e17d73133e338a535e72f30f25ea15179691dc04b4e492447e2f2bdf|BOOK        |\n",
      "|8dd007d2173f57e16e30a050fb9ce05996ff7b17f3422db8bf3928faada2d47b|BOOK        |\n",
      "|6bf3ac5e1d619e4579ee77f0c52e6a41eda29ddda1b9be8f72c2721854164a2d|BOOK        |\n",
      "|401b0417fcbc904b5e8e03d0ef23b4ce883317b8cfb83681d3664ff5a3758b49|BOOK        |\n",
      "|95686048521296ba224ac8664ccf7c466ccabfdcf92cba9c8d526b3ddc986525|VIDEODISC   |\n",
      "|e2294ea01cff8690a86fd3ecf0250f929c9997cd11b5c39df92b71e2a65b4058|BOOK        |\n",
      "|6012d180ef2cabce932c8b0c46826947bb9e55087b69303af81cc4f6bfc3cae0|SOUNDDISC   |\n",
      "|32d67b645caf07ed72266a67aea160c74e9b6c0833427f2439f3378109bf17d3|BOOK        |\n",
      "|148f940fa46e290b33c0041480acef7174d111a8fb73bf6f2c8b344849b54c84|BOOK        |\n",
      "|6922005b309323114c8bb2cf706fb7a39afc2d222c88378f8f7c2c3b16a95d75|VIDEODISC   |\n",
      "+----------------------------------------------------------------+------------+\n",
      "only showing top 10 rows\n",
      "\n"
     ]
    }
   ],
   "source": [
    "melted_df = melt(df2,\n",
    "                [\"ID_Material\"],\n",
    "                ['material_type_0', 'material_type_1','material_type_2','material_type_3','material_type_4','material_type_5'],\n",
    "                 \"coluna\", \"MaterialType\")\n",
    "\n",
    "melted_df = melted_df.dropna()\n",
    "melted_df = melted_df.select('ID_Material','MaterialType')\n",
    "melted_df.show(10,False)"
   ]
  },
  {
   "attachments": {},
   "cell_type": "markdown",
   "metadata": {},
   "source": [
    "## Tabela Creator"
   ]
  },
  {
   "cell_type": "code",
   "execution_count": 20,
   "metadata": {},
   "outputs": [
    {
     "name": "stdout",
     "output_type": "stream",
     "text": [
      "+--------------------+--------------------+\n",
      "|             Creator|         ID_Material|\n",
      "+--------------------+--------------------+\n",
      "|       Haymon, S. T.|435cb8e8e17d73133...|\n",
      "|                null|8dd007d2173f57e16...|\n",
      "|                null|6bf3ac5e1d619e457...|\n",
      "|                null|401b0417fcbc904b5...|\n",
      "|                null|95686048521296ba2...|\n",
      "|     Handler, Daniel|e2294ea01cff8690a...|\n",
      "|                null|6012d180ef2cabce9...|\n",
      "|Haywood, Carolyn,...|32d67b645caf07ed7...|\n",
      "|                null|148f940fa46e290b3...|\n",
      "|                null|6922005b309323114...|\n",
      "+--------------------+--------------------+\n",
      "only showing top 10 rows\n",
      "\n"
     ]
    }
   ],
   "source": [
    "#Creator\n",
    "seattle_library_creator = seattle_library\\\n",
    "        .select('Creator','ID_Material')\n",
    "\n",
    "seattle_library_creator.show(10)"
   ]
  },
  {
   "cell_type": "code",
   "execution_count": 21,
   "metadata": {},
   "outputs": [
    {
     "name": "stdout",
     "output_type": "stream",
     "text": [
      "+--------------------+--------------------+--------------------+---------+---------+---------+---------+---------+\n",
      "|             Creator|         ID_Material|           creator_0|creator_1|creator_2|creator_3|creator_4|creator_5|\n",
      "+--------------------+--------------------+--------------------+---------+---------+---------+---------+---------+\n",
      "|       Haymon, S. T.|435cb8e8e17d73133...|       Haymon, S. T.|     null|     null|     null|     null|     null|\n",
      "|                null|8dd007d2173f57e16...|                null|     null|     null|     null|     null|     null|\n",
      "|                null|6bf3ac5e1d619e457...|                null|     null|     null|     null|     null|     null|\n",
      "|                null|401b0417fcbc904b5...|                null|     null|     null|     null|     null|     null|\n",
      "|                null|95686048521296ba2...|                null|     null|     null|     null|     null|     null|\n",
      "|     Handler, Daniel|e2294ea01cff8690a...|     Handler, Daniel|     null|     null|     null|     null|     null|\n",
      "|                null|6012d180ef2cabce9...|                null|     null|     null|     null|     null|     null|\n",
      "|Haywood, Carolyn,...|32d67b645caf07ed7...|Haywood, Carolyn,...|     null|     null|     null|     null|     null|\n",
      "|                null|148f940fa46e290b3...|                null|     null|     null|     null|     null|     null|\n",
      "|                null|6922005b309323114...|                null|     null|     null|     null|     null|     null|\n",
      "+--------------------+--------------------+--------------------+---------+---------+---------+---------+---------+\n",
      "only showing top 10 rows\n",
      "\n"
     ]
    }
   ],
   "source": [
    "split_col_creator = split(seattle_library_creator['Creator'], ';')\n",
    "\n",
    "df3 = seattle_library_creator\\\n",
    "    .withColumn('creator_0', split_col_creator.getItem(0)) \\\n",
    "    .withColumn('creator_1', split_col_creator.getItem(1)) \\\n",
    "    .withColumn('creator_2', split_col_creator.getItem(2)) \\\n",
    "    .withColumn('creator_3', split_col_creator.getItem(3)) \\\n",
    "    .withColumn('creator_4', split_col_creator.getItem(4)) \\\n",
    "    .withColumn('creator_5', split_col_creator.getItem(5))\n",
    "df3.show(10)"
   ]
  },
  {
   "cell_type": "code",
   "execution_count": 22,
   "metadata": {},
   "outputs": [
    {
     "name": "stdout",
     "output_type": "stream",
     "text": [
      "+----------------------------------------------------------------+-----------------------------+\n",
      "|ID_Material                                                     |Creator                      |\n",
      "+----------------------------------------------------------------+-----------------------------+\n",
      "|435cb8e8e17d73133e338a535e72f30f25ea15179691dc04b4e492447e2f2bdf|Haymon, S. T.                |\n",
      "|e2294ea01cff8690a86fd3ecf0250f929c9997cd11b5c39df92b71e2a65b4058|Handler, Daniel              |\n",
      "|32d67b645caf07ed72266a67aea160c74e9b6c0833427f2439f3378109bf17d3|Haywood, Carolyn, 1898-1990  |\n",
      "|9659aedd14e18df5545a3dd668d7597a4550a2ed6dd6f609ca2cd7ce291e8bc0|Glancey, Jonathan            |\n",
      "|6ef16d6fea312ccb3aedd24541f3e01c3f0acfd98a0a7ef20ed08aa311a342d8|Russell, Barbara T.          |\n",
      "|2c10aed35d832af86435b842f07af718ff3073ed9444007a2bda0d65c3187cbc|Cravens, Gwyneth             |\n",
      "|68c72c597b6dee9b8f74511d7aa9d563b82eccf1cd50bfa691101e883998b02f|Curtis, Sandra R., 1950-     |\n",
      "|b6d3ff1b27cc8703562a0ba8b338421fd32589e8e16429c6293099a4572b3eb8|Powell, Patricia Hruby, 1951-|\n",
      "|0d35d41e99db15820c4a0719b6874c58aab2b4aeb837dd475dd7510eec404101|Levine, Stephen, 1937-       |\n",
      "|7dba9ff9803adffb3d1ee98f828ce58620da585a364e4762b43926df293c15cc|Gilbert, Judy B. (Judy Bogen)|\n",
      "+----------------------------------------------------------------+-----------------------------+\n",
      "only showing top 10 rows\n",
      "\n"
     ]
    }
   ],
   "source": [
    "melted_df = melt(df3,\n",
    "                [\"ID_Material\"],\n",
    "                ['creator_0', 'creator_1','creator_2','creator_3','creator_4','creator_5'],\n",
    "                 \"coluna\", \"Creator\")\n",
    "\n",
    "melted_df = melted_df.dropna()\n",
    "melted_df = melted_df.select('ID_Material','Creator')\n",
    "melted_df.show(10,False)"
   ]
  },
  {
   "attachments": {},
   "cell_type": "markdown",
   "metadata": {},
   "source": [
    "## Tabela Subjects"
   ]
  },
  {
   "cell_type": "code",
   "execution_count": 27,
   "metadata": {},
   "outputs": [
    {
     "name": "stdout",
     "output_type": "stream",
     "text": [
      "+---------------------------------------------------------------------------------------------------------------------------------------------------------------------------------------------------------------------------------------------+----------------------------------------------------------------+\n",
      "|Subjects                                                                                                                                                                                                                                     |ID_Material                                                     |\n",
      "+---------------------------------------------------------------------------------------------------------------------------------------------------------------------------------------------------------------------------------------------+----------------------------------------------------------------+\n",
      "|Riazanov Eldar, Motion picture producers and directors Soviet Union Biography, Television producers and directors Soviet Union Biography, Comedy films Soviet Union History and criticism, Comedy programs Soviet Union History and criticism|401b0417fcbc904b5e8e03d0ef23b4ce883317b8cfb83681d3664ff5a3758b49|\n",
      "|Fireplaces, Fuelwood, Stoves Wood                                                                                                                                                                                                            |bc42c395b401223501a6a28a2b1e20219ad195fd1ca450b5204f6dacc29537ce|\n",
      "|Animated films, Childrens films, Friendship Fiction, Babies Fiction                                                                                                                                                                          |dd18e73ac1d86107d1883d48026152fe3f9b1ff58e8c82d35e670e36769357dc|\n",
      "|Aggressiveness in children, Girls Psychology                                                                                                                                                                                                 |90d2799e6881d3edf80ce06f9a3255f266807a3ae83d02d1746a15160d77cf15|\n",
      "|Spy stories, Science fiction Juvenile fiction, Spies Juvenile fiction                                                                                                                                                                        |af4a44d4aad679fd155cf8d5dc158d6c6b96766899e91fcbea288f979e6bbc61|\n",
      "+---------------------------------------------------------------------------------------------------------------------------------------------------------------------------------------------------------------------------------------------+----------------------------------------------------------------+\n",
      "only showing top 5 rows\n",
      "\n"
     ]
    }
   ],
   "source": [
    "#Subjects\n",
    "seattle_library_subjects = seattle_library\\\n",
    "    .select('Subjects','ID_Material') \\\n",
    "    .dropDuplicates()\n",
    "\n",
    "seattle_library_subjects.show(5,False)"
   ]
  },
  {
   "cell_type": "code",
   "execution_count": 28,
   "metadata": {},
   "outputs": [
    {
     "name": "stdout",
     "output_type": "stream",
     "text": [
      "+--------------------+--------------------+--------------------+--------------------+--------------------+--------------------+---------+---------+---------+---------+---------+----------+----------+----------+----------+----------+----------+----------+----------+----------+----------+----------+----------+----------+----------+----------+----------+----------+----------+----------+----------+----------+----------+----------+----------+----------+----------+----------+----------+----------+----------+----------+----------+----------+----------+----------+----------+----------+----------+----------+----------+----------+----------+----------+----------+----------+----------+----------+----------+----------+----------+----------+\n",
      "|            Subjects|         ID_Material|           subject_0|           subject_1|           subject_4|           subject_3|subject_5|subject_6|subject_7|subject_8|subject_9|subject_10|subject_11|subject_12|subject_13|subject_14|subject_15|subject_16|subject_17|subject_18|subject_19|subject_20|subject_21|subject_22|subject_23|subject_24|subject_25|subject_26|subject_27|subject_28|subject_29|subject_30|subject_31|subject_32|subject_33|subject_34|subject_35|subject_36|subject_37|subject_38|subject_39|subject_40|subject_41|subject_42|subject_43|subject_44|subject_45|subject_46|subject_47|subject_48|subject_49|subject_50|subject_51|subject_52|subject_53|subject_54|subject_55|subject_56|subject_57|subject_58|subject_59|subject_60|\n",
      "+--------------------+--------------------+--------------------+--------------------+--------------------+--------------------+---------+---------+---------+---------+---------+----------+----------+----------+----------+----------+----------+----------+----------+----------+----------+----------+----------+----------+----------+----------+----------+----------+----------+----------+----------+----------+----------+----------+----------+----------+----------+----------+----------+----------+----------+----------+----------+----------+----------+----------+----------+----------+----------+----------+----------+----------+----------+----------+----------+----------+----------+----------+----------+----------+----------+----------+\n",
      "|Riazanov Eldar, M...|401b0417fcbc904b5...|      Riazanov Eldar| Motion picture p...| Comedy programs ...| Comedy films Sov...|     null|     null|     null|     null|     null|      null|      null|      null|      null|      null|      null|      null|      null|      null|      null|      null|      null|      null|      null|      null|      null|      null|      null|      null|      null|      null|      null|      null|      null|      null|      null|      null|      null|      null|      null|      null|      null|      null|      null|      null|      null|      null|      null|      null|      null|      null|      null|      null|      null|      null|      null|      null|      null|      null|      null|      null|\n",
      "|Fireplaces, Fuelw...|bc42c395b40122350...|          Fireplaces|            Fuelwood|                null|                null|     null|     null|     null|     null|     null|      null|      null|      null|      null|      null|      null|      null|      null|      null|      null|      null|      null|      null|      null|      null|      null|      null|      null|      null|      null|      null|      null|      null|      null|      null|      null|      null|      null|      null|      null|      null|      null|      null|      null|      null|      null|      null|      null|      null|      null|      null|      null|      null|      null|      null|      null|      null|      null|      null|      null|      null|\n",
      "|Animated films, C...|dd18e73ac1d86107d...|      Animated films|     Childrens films|                null|      Babies Fiction|     null|     null|     null|     null|     null|      null|      null|      null|      null|      null|      null|      null|      null|      null|      null|      null|      null|      null|      null|      null|      null|      null|      null|      null|      null|      null|      null|      null|      null|      null|      null|      null|      null|      null|      null|      null|      null|      null|      null|      null|      null|      null|      null|      null|      null|      null|      null|      null|      null|      null|      null|      null|      null|      null|      null|      null|\n",
      "|Aggressiveness in...|90d2799e6881d3edf...|Aggressiveness in...|    Girls Psychology|                null|                null|     null|     null|     null|     null|     null|      null|      null|      null|      null|      null|      null|      null|      null|      null|      null|      null|      null|      null|      null|      null|      null|      null|      null|      null|      null|      null|      null|      null|      null|      null|      null|      null|      null|      null|      null|      null|      null|      null|      null|      null|      null|      null|      null|      null|      null|      null|      null|      null|      null|      null|      null|      null|      null|      null|      null|      null|\n",
      "|Spy stories, Scie...|af4a44d4aad679fd1...|         Spy stories| Science fiction ...|                null|                null|     null|     null|     null|     null|     null|      null|      null|      null|      null|      null|      null|      null|      null|      null|      null|      null|      null|      null|      null|      null|      null|      null|      null|      null|      null|      null|      null|      null|      null|      null|      null|      null|      null|      null|      null|      null|      null|      null|      null|      null|      null|      null|      null|      null|      null|      null|      null|      null|      null|      null|      null|      null|      null|      null|      null|      null|\n",
      "|Rock music 1961 1970|e57814b3fd97e8acc...|Rock music 1961 1970|                null|                null|                null|     null|     null|     null|     null|     null|      null|      null|      null|      null|      null|      null|      null|      null|      null|      null|      null|      null|      null|      null|      null|      null|      null|      null|      null|      null|      null|      null|      null|      null|      null|      null|      null|      null|      null|      null|      null|      null|      null|      null|      null|      null|      null|      null|      null|      null|      null|      null|      null|      null|      null|      null|      null|      null|      null|      null|      null|\n",
      "|Fantasy fiction, ...|da8864c68bb16d71a...|     Fantasy fiction|      Horror fiction|                null| Cthulhu Fictitio...|     null|     null|     null|     null|     null|      null|      null|      null|      null|      null|      null|      null|      null|      null|      null|      null|      null|      null|      null|      null|      null|      null|      null|      null|      null|      null|      null|      null|      null|      null|      null|      null|      null|      null|      null|      null|      null|      null|      null|      null|      null|      null|      null|      null|      null|      null|      null|      null|      null|      null|      null|      null|      null|      null|      null|      null|\n",
      "|            Hamsters|94899f7cae4ea0b7a...|            Hamsters|                null|                null|                null|     null|     null|     null|     null|     null|      null|      null|      null|      null|      null|      null|      null|      null|      null|      null|      null|      null|      null|      null|      null|      null|      null|      null|      null|      null|      null|      null|      null|      null|      null|      null|      null|      null|      null|      null|      null|      null|      null|      null|      null|      null|      null|      null|      null|      null|      null|      null|      null|      null|      null|      null|      null|      null|      null|      null|      null|\n",
      "|    Cookery American|d7ecd26cf386c8b07...|    Cookery American|                null|                null|                null|     null|     null|     null|     null|     null|      null|      null|      null|      null|      null|      null|      null|      null|      null|      null|      null|      null|      null|      null|      null|      null|      null|      null|      null|      null|      null|      null|      null|      null|      null|      null|      null|      null|      null|      null|      null|      null|      null|      null|      null|      null|      null|      null|      null|      null|      null|      null|      null|      null|      null|      null|      null|      null|      null|      null|      null|\n",
      "|Rock music 1961 1970|663acde62afc4df8f...|Rock music 1961 1970|                null|                null|                null|     null|     null|     null|     null|     null|      null|      null|      null|      null|      null|      null|      null|      null|      null|      null|      null|      null|      null|      null|      null|      null|      null|      null|      null|      null|      null|      null|      null|      null|      null|      null|      null|      null|      null|      null|      null|      null|      null|      null|      null|      null|      null|      null|      null|      null|      null|      null|      null|      null|      null|      null|      null|      null|      null|      null|      null|\n",
      "+--------------------+--------------------+--------------------+--------------------+--------------------+--------------------+---------+---------+---------+---------+---------+----------+----------+----------+----------+----------+----------+----------+----------+----------+----------+----------+----------+----------+----------+----------+----------+----------+----------+----------+----------+----------+----------+----------+----------+----------+----------+----------+----------+----------+----------+----------+----------+----------+----------+----------+----------+----------+----------+----------+----------+----------+----------+----------+----------+----------+----------+----------+----------+----------+----------+----------+\n",
      "only showing top 10 rows\n",
      "\n"
     ]
    }
   ],
   "source": [
    "split_col_subjects = split(seattle_library_subjects['Subjects'], ',')\n",
    "\n",
    "df4 = seattle_library_subjects\\\n",
    "    .withColumn('subject_0', split_col_subjects.getItem(0)) \\\n",
    "    .withColumn('subject_1', split_col_subjects.getItem(1)) \\\n",
    "    .withColumn('subject_4', split_col_subjects.getItem(4)) \\\n",
    "    .withColumn('subject_3', split_col_subjects.getItem(3)) \\\n",
    "    .withColumn('subject_4', split_col_subjects.getItem(4)) \\\n",
    "    .withColumn('subject_5', split_col_subjects.getItem(5)) \\\n",
    "    .withColumn('subject_6', split_col_subjects.getItem(6)) \\\n",
    "    .withColumn('subject_7', split_col_subjects.getItem(7)) \\\n",
    "    .withColumn('subject_8', split_col_subjects.getItem(8)) \\\n",
    "    .withColumn('subject_9', split_col_subjects.getItem(9)) \\\n",
    "    .withColumn('subject_10', split_col_subjects.getItem(10)) \\\n",
    "    .withColumn('subject_11', split_col_subjects.getItem(11)) \\\n",
    "    .withColumn('subject_12', split_col_subjects.getItem(12)) \\\n",
    "    .withColumn('subject_13', split_col_subjects.getItem(13)) \\\n",
    "    .withColumn('subject_14', split_col_subjects.getItem(14)) \\\n",
    "    .withColumn('subject_15', split_col_subjects.getItem(15)) \\\n",
    "    .withColumn('subject_16', split_col_subjects.getItem(16)) \\\n",
    "    .withColumn('subject_17', split_col_subjects.getItem(17)) \\\n",
    "    .withColumn('subject_18', split_col_subjects.getItem(18)) \\\n",
    "    .withColumn('subject_19', split_col_subjects.getItem(19)) \\\n",
    "    .withColumn('subject_20', split_col_subjects.getItem(20)) \\\n",
    "    .withColumn('subject_21', split_col_subjects.getItem(21)) \\\n",
    "    .withColumn('subject_22', split_col_subjects.getItem(22)) \\\n",
    "    .withColumn('subject_23', split_col_subjects.getItem(23)) \\\n",
    "    .withColumn('subject_24', split_col_subjects.getItem(24)) \\\n",
    "    .withColumn('subject_25', split_col_subjects.getItem(25)) \\\n",
    "    .withColumn('subject_26', split_col_subjects.getItem(26)) \\\n",
    "    .withColumn('subject_27', split_col_subjects.getItem(27)) \\\n",
    "    .withColumn('subject_28', split_col_subjects.getItem(28)) \\\n",
    "    .withColumn('subject_29', split_col_subjects.getItem(29)) \\\n",
    "    .withColumn('subject_30', split_col_subjects.getItem(30)) \\\n",
    "    .withColumn('subject_31', split_col_subjects.getItem(31)) \\\n",
    "    .withColumn('subject_32', split_col_subjects.getItem(32)) \\\n",
    "    .withColumn('subject_33', split_col_subjects.getItem(33)) \\\n",
    "    .withColumn('subject_34', split_col_subjects.getItem(34)) \\\n",
    "    .withColumn('subject_35', split_col_subjects.getItem(35)) \\\n",
    "    .withColumn('subject_36', split_col_subjects.getItem(36)) \\\n",
    "    .withColumn('subject_37', split_col_subjects.getItem(37)) \\\n",
    "    .withColumn('subject_38', split_col_subjects.getItem(38)) \\\n",
    "    .withColumn('subject_39', split_col_subjects.getItem(39)) \\\n",
    "    .withColumn('subject_40', split_col_subjects.getItem(40)) \\\n",
    "    .withColumn('subject_41', split_col_subjects.getItem(41)) \\\n",
    "    .withColumn('subject_42', split_col_subjects.getItem(42)) \\\n",
    "    .withColumn('subject_43', split_col_subjects.getItem(43)) \\\n",
    "    .withColumn('subject_44', split_col_subjects.getItem(44)) \\\n",
    "    .withColumn('subject_45', split_col_subjects.getItem(45)) \\\n",
    "    .withColumn('subject_46', split_col_subjects.getItem(46)) \\\n",
    "    .withColumn('subject_47', split_col_subjects.getItem(47)) \\\n",
    "    .withColumn('subject_48', split_col_subjects.getItem(48)) \\\n",
    "    .withColumn('subject_49', split_col_subjects.getItem(49)) \\\n",
    "    .withColumn('subject_50', split_col_subjects.getItem(50)) \\\n",
    "    .withColumn('subject_51', split_col_subjects.getItem(51)) \\\n",
    "    .withColumn('subject_52', split_col_subjects.getItem(52)) \\\n",
    "    .withColumn('subject_53', split_col_subjects.getItem(53)) \\\n",
    "    .withColumn('subject_54', split_col_subjects.getItem(54)) \\\n",
    "    .withColumn('subject_55', split_col_subjects.getItem(55)) \\\n",
    "    .withColumn('subject_56', split_col_subjects.getItem(56)) \\\n",
    "    .withColumn('subject_57', split_col_subjects.getItem(57)) \\\n",
    "    .withColumn('subject_58', split_col_subjects.getItem(58)) \\\n",
    "    .withColumn('subject_59', split_col_subjects.getItem(59)) \\\n",
    "    .withColumn('subject_60', split_col_subjects.getItem(60)) \n",
    "\n",
    "df4.show(10)"
   ]
  },
  {
   "cell_type": "code",
   "execution_count": 29,
   "metadata": {},
   "outputs": [
    {
     "name": "stdout",
     "output_type": "stream",
     "text": [
      "2\n"
     ]
    }
   ],
   "source": [
    "count_non_null = df4.select(col('subject_55')).na.drop().count()\n",
    "\n",
    "print(count_non_null)"
   ]
  },
  {
   "cell_type": "code",
   "execution_count": 30,
   "metadata": {},
   "outputs": [
    {
     "name": "stdout",
     "output_type": "stream",
     "text": [
      "+----------------------------------------------------------------+-----------------------------------+\n",
      "|ID_Material                                                     |subject_55                         |\n",
      "+----------------------------------------------------------------+-----------------------------------+\n",
      "|a0b866e2f55042bbca93b13e8af2d63a1b92eb33bedfeaae94e2abe486cf53ec| Puerto Rico Description and travel|\n",
      "+----------------------------------------------------------------+-----------------------------------+\n",
      "only showing top 1 row\n",
      "\n"
     ]
    }
   ],
   "source": [
    "df4.select('ID_Material','subject_55').na.drop().show(2,False)\n"
   ]
  },
  {
   "cell_type": "code",
   "execution_count": 31,
   "metadata": {},
   "outputs": [
    {
     "name": "stdout",
     "output_type": "stream",
     "text": [
      "+-----------------------------------------------------------------------------------------------------------------------------------------------------------------------------------------------------------------------------------------------------------------------------------------------------------------------------------------------------------------------------------------------------------------------------------------------------------------------------------------------------------------------------------------------------------------------------------------------------------------------------------------------------------------------------------------------------------------------------------------------------------------------------------------------------------------------------------------------------------------------------------------------------------------------------------------------------------------------------------------------------------------------------------------------------------------------------------------------------------------------------------------------------------------------------------------------------------------------------------------------------------------------------------------------------------------------------------------------------------------------------------------------------------------------------------------------------------------------------------------------------------------------------------------------------------------------------------------------------------------------------------------------------------------------------------------------------------------------------------------------------------------------------------------------------------------------------------------------------------------------------------------------------------------------------------------------------------------------------------------------------------------------------------------------------------------------+----------------------------------------------------------------+--------------------------------+---------------------------------------------------+-------------------------------+-------------------------+------------------------------+-------------------------------+--------------------------------+----------------------------------+--------------------------------+-----------------------------------+--------------------------------+-------------------------------+-------------------------------+------------------------------+-----------------------------+--------------------------------+-------------------------------+----------------------------+------------------------------+--------------------------------+---------------------------------+-----------------------------+--------------------------------+-------------------------------------+--------------------------------+---------------------------------+-----------------------------------+--------------------------------+-------------------------------+--------------------------------+------------------------------+-------------------------------------+----------------------------------+----------------------------------+-------------------------------------+--------------------------------------+------------------------------------+----------------------------+--------------------------------+------------------------------+------------------------------------+------------------------------------+--------------------------------------+------------------------------------+---------------------------------+-----------------------------+----------------------------+-------------------------------+--------------------------------+----------------------------------------+-------------------------------------+---------------------------------+-------------------------------+------------------------------+-----------------------------------+----------------------------------------------------+-----------+--------------------+----------+----------+\n",
      "|Subjects                                                                                                                                                                                                                                                                                                                                                                                                                                                                                                                                                                                                                                                                                                                                                                                                                                                                                                                                                                                                                                                                                                                                                                                                                                                                                                                                                                                                                                                                                                                                                                                                                                                                                                                                                                                                                                                                                                                                                                                                                                                               |ID_Material                                                     |subject_0                       |subject_1                                          |subject_4                      |subject_3                |subject_5                     |subject_6                      |subject_7                       |subject_8                         |subject_9                       |subject_10                         |subject_11                      |subject_12                     |subject_13                     |subject_14                    |subject_15                   |subject_16                      |subject_17                     |subject_18                  |subject_19                    |subject_20                      |subject_21                       |subject_22                   |subject_23                      |subject_24                           |subject_25                      |subject_26                       |subject_27                         |subject_28                      |subject_29                     |subject_30                      |subject_31                    |subject_32                           |subject_33                        |subject_34                        |subject_35                           |subject_36                            |subject_37                          |subject_38                  |subject_39                      |subject_40                    |subject_41                          |subject_42                          |subject_43                            |subject_44                          |subject_45                       |subject_46                   |subject_47                  |subject_48                     |subject_49                      |subject_50                              |subject_51                           |subject_52                       |subject_53                     |subject_54                    |subject_55                         |subject_56                                          |subject_57 |subject_58          |subject_59|subject_60|\n",
      "+-----------------------------------------------------------------------------------------------------------------------------------------------------------------------------------------------------------------------------------------------------------------------------------------------------------------------------------------------------------------------------------------------------------------------------------------------------------------------------------------------------------------------------------------------------------------------------------------------------------------------------------------------------------------------------------------------------------------------------------------------------------------------------------------------------------------------------------------------------------------------------------------------------------------------------------------------------------------------------------------------------------------------------------------------------------------------------------------------------------------------------------------------------------------------------------------------------------------------------------------------------------------------------------------------------------------------------------------------------------------------------------------------------------------------------------------------------------------------------------------------------------------------------------------------------------------------------------------------------------------------------------------------------------------------------------------------------------------------------------------------------------------------------------------------------------------------------------------------------------------------------------------------------------------------------------------------------------------------------------------------------------------------------------------------------------------------+----------------------------------------------------------------+--------------------------------+---------------------------------------------------+-------------------------------+-------------------------+------------------------------+-------------------------------+--------------------------------+----------------------------------+--------------------------------+-----------------------------------+--------------------------------+-------------------------------+-------------------------------+------------------------------+-----------------------------+--------------------------------+-------------------------------+----------------------------+------------------------------+--------------------------------+---------------------------------+-----------------------------+--------------------------------+-------------------------------------+--------------------------------+---------------------------------+-----------------------------------+--------------------------------+-------------------------------+--------------------------------+------------------------------+-------------------------------------+----------------------------------+----------------------------------+-------------------------------------+--------------------------------------+------------------------------------+----------------------------+--------------------------------+------------------------------+------------------------------------+------------------------------------+--------------------------------------+------------------------------------+---------------------------------+-----------------------------+----------------------------+-------------------------------+--------------------------------+----------------------------------------+-------------------------------------+---------------------------------+-------------------------------+------------------------------+-----------------------------------+----------------------------------------------------+-----------+--------------------+----------+----------+\n",
      "|Camping United States Guidebooks, Camp sites facilities etc United States Guidebooks, Outdoor recreation United States Guidebooks, United States Guidebooks, Alabama Description and travel, Alaska Description and travel, Arizona Description and travel, Arkansas Description and travel, California Description and travel, Colorado Description and travel, Connecticut Description and travel, Delaware Description and travel, Florida Description and travel, Georgia Description and travel, Hawaii Description and travel, Idaho Description and travel, Illinois Description and travel, Indiana Description and travel, Iowa Description and travel, Kansas Description and travel, Kentucky Description and travel, Louisiana Description and travel, Maine Description and travel, Maryland Description and travel, Massachusetts Description and travel, Michigan Description and travel, Minnesota Description and travel, Mississippi Description and travel, Missouri Description and travel, Montana Description and travel, Nebraska Description and travel, Nevada Description and travel, New Hampshire Description and travel, New Jersey Description and travel, New Mexico Description and travel, New York State Descrption and travel, North Carolina Description and travel, North Dakota Description and travel, Ohio Description and travel, Oklahoma Description and travel, Oregon Description and travel, Pennsylvania Description and travel, Rhode Island Description and travel, South Carolina Description and travel, South Dakota Description and travel, Tennessee Description and travel, Texas Description and travel, Utah Description and travel, Vermont Description and travel, Virginia Description and travel, Washington State Description and travel, West Virginia Description and travel, Wisconsin Description and travel, Wyoming Description and travel, Canada Description and travel, Puerto Rico Description and travel, United States Virgin Islands Description and travel, Guidebooks, Guides touristiques|a0b866e2f55042bbca93b13e8af2d63a1b92eb33bedfeaae94e2abe486cf53ec|Camping United States Guidebooks| Camp sites facilities etc United States Guidebooks| Alabama Description and travel| United States Guidebooks| Alaska Description and travel| Arizona Description and travel| Arkansas Description and travel| California Description and travel| Colorado Description and travel| Connecticut Description and travel| Delaware Description and travel| Florida Description and travel| Georgia Description and travel| Hawaii Description and travel| Idaho Description and travel| Illinois Description and travel| Indiana Description and travel| Iowa Description and travel| Kansas Description and travel| Kentucky Description and travel| Louisiana Description and travel| Maine Description and travel| Maryland Description and travel| Massachusetts Description and travel| Michigan Description and travel| Minnesota Description and travel| Mississippi Description and travel| Missouri Description and travel| Montana Description and travel| Nebraska Description and travel| Nevada Description and travel| New Hampshire Description and travel| New Jersey Description and travel| New Mexico Description and travel| New York State Descrption and travel| North Carolina Description and travel| North Dakota Description and travel| Ohio Description and travel| Oklahoma Description and travel| Oregon Description and travel| Pennsylvania Description and travel| Rhode Island Description and travel| South Carolina Description and travel| South Dakota Description and travel| Tennessee Description and travel| Texas Description and travel| Utah Description and travel| Vermont Description and travel| Virginia Description and travel| Washington State Description and travel| West Virginia Description and travel| Wisconsin Description and travel| Wyoming Description and travel| Canada Description and travel| Puerto Rico Description and travel| United States Virgin Islands Description and travel| Guidebooks| Guides touristiques|null      |null      |\n",
      "+-----------------------------------------------------------------------------------------------------------------------------------------------------------------------------------------------------------------------------------------------------------------------------------------------------------------------------------------------------------------------------------------------------------------------------------------------------------------------------------------------------------------------------------------------------------------------------------------------------------------------------------------------------------------------------------------------------------------------------------------------------------------------------------------------------------------------------------------------------------------------------------------------------------------------------------------------------------------------------------------------------------------------------------------------------------------------------------------------------------------------------------------------------------------------------------------------------------------------------------------------------------------------------------------------------------------------------------------------------------------------------------------------------------------------------------------------------------------------------------------------------------------------------------------------------------------------------------------------------------------------------------------------------------------------------------------------------------------------------------------------------------------------------------------------------------------------------------------------------------------------------------------------------------------------------------------------------------------------------------------------------------------------------------------------------------------------+----------------------------------------------------------------+--------------------------------+---------------------------------------------------+-------------------------------+-------------------------+------------------------------+-------------------------------+--------------------------------+----------------------------------+--------------------------------+-----------------------------------+--------------------------------+-------------------------------+-------------------------------+------------------------------+-----------------------------+--------------------------------+-------------------------------+----------------------------+------------------------------+--------------------------------+---------------------------------+-----------------------------+--------------------------------+-------------------------------------+--------------------------------+---------------------------------+-----------------------------------+--------------------------------+-------------------------------+--------------------------------+------------------------------+-------------------------------------+----------------------------------+----------------------------------+-------------------------------------+--------------------------------------+------------------------------------+----------------------------+--------------------------------+------------------------------+------------------------------------+------------------------------------+--------------------------------------+------------------------------------+---------------------------------+-----------------------------+----------------------------+-------------------------------+--------------------------------+----------------------------------------+-------------------------------------+---------------------------------+-------------------------------+------------------------------+-----------------------------------+----------------------------------------------------+-----------+--------------------+----------+----------+\n",
      "\n"
     ]
    }
   ],
   "source": [
    "filtered_df = df4.filter(col('ID_Material') == 'a0b866e2f55042bbca93b13e8af2d63a1b92eb33bedfeaae94e2abe486cf53ec')\n",
    "\n",
    "# exibe o dataframe filtrado\n",
    "filtered_df.show(1,False)"
   ]
  },
  {
   "attachments": {},
   "cell_type": "markdown",
   "metadata": {},
   "source": [
    "# VERIFICAR DUPLICATAS DEMAIS TABELAS"
   ]
  },
  {
   "cell_type": "code",
   "execution_count": null,
   "metadata": {},
   "outputs": [],
   "source": []
  },
  {
   "attachments": {},
   "cell_type": "markdown",
   "metadata": {},
   "source": [
    "https://spark.apache.org/docs/3.1.2/api/python/reference/api/pyspark.sql.functions.split.html\n",
    "\n",
    "https://sparkbyexamples.com/pyspark/pyspark-split-dataframe-column-into-multiple-columns/\n",
    "\n",
    "https://www.projectpro.io/recipes/define-split-function-pyspark\n",
    "\n",
    "https://www.datasciencemadesimple.com/string-split-of-the-columns-in-pyspark/"
   ]
  },
  {
   "cell_type": "code",
   "execution_count": null,
   "metadata": {},
   "outputs": [],
   "source": []
  }
 ],
 "metadata": {
  "kernelspec": {
   "display_name": "Python 3",
   "language": "python",
   "name": "python3"
  },
  "language_info": {
   "codemirror_mode": {
    "name": "ipython",
    "version": 3
   },
   "file_extension": ".py",
   "mimetype": "text/x-python",
   "name": "python",
   "nbconvert_exporter": "python",
   "pygments_lexer": "ipython3",
   "version": "3.9.13"
  },
  "orig_nbformat": 4,
  "vscode": {
   "interpreter": {
    "hash": "c89dac2000cd39b6c6afdbb40384525553e908a214fa5e3caa43ad6708c415f4"
   }
  }
 },
 "nbformat": 4,
 "nbformat_minor": 2
}
